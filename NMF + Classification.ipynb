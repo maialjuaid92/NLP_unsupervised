{
 "cells": [
  {
   "cell_type": "code",
   "execution_count": 1,
   "id": "22811c21",
   "metadata": {},
   "outputs": [],
   "source": [
    "import pandas as pd\n",
    "from sklearn.feature_extraction.text import CountVectorizer \n",
    "from sklearn.decomposition import TruncatedSVD\n",
    "from sklearn.decomposition import NMF\n",
    "from sklearn.metrics.pairwise import cosine_similarity"
   ]
  },
  {
   "cell_type": "code",
   "execution_count": 2,
   "id": "4f8d9e3d",
   "metadata": {},
   "outputs": [],
   "source": [
    "df = pd.read_csv(\"C:/Users/mai_a/Downloads/final_data_20.csv\")"
   ]
  },
  {
   "cell_type": "code",
   "execution_count": 3,
   "id": "b1e2e2e3",
   "metadata": {},
   "outputs": [
    {
     "data": {
      "text/html": [
       "<div>\n",
       "<style scoped>\n",
       "    .dataframe tbody tr th:only-of-type {\n",
       "        vertical-align: middle;\n",
       "    }\n",
       "\n",
       "    .dataframe tbody tr th {\n",
       "        vertical-align: top;\n",
       "    }\n",
       "\n",
       "    .dataframe thead th {\n",
       "        text-align: right;\n",
       "    }\n",
       "</style>\n",
       "<table border=\"1\" class=\"dataframe\">\n",
       "  <thead>\n",
       "    <tr style=\"text-align: right;\">\n",
       "      <th></th>\n",
       "      <th>Unnamed: 0</th>\n",
       "      <th>Unnamed: 0.1</th>\n",
       "      <th>Unnamed: 0.1.1</th>\n",
       "      <th>Rating</th>\n",
       "      <th>Review_Text</th>\n",
       "      <th>Review_Text1</th>\n",
       "      <th>Review_Text2</th>\n",
       "      <th>text_stemmed</th>\n",
       "      <th>text_lemmatized</th>\n",
       "      <th>text_corrected</th>\n",
       "      <th>Without3letters</th>\n",
       "      <th>Emoji_Count</th>\n",
       "      <th>WithoutEmojis</th>\n",
       "      <th>Removed_words</th>\n",
       "      <th>Reviews_words</th>\n",
       "    </tr>\n",
       "  </thead>\n",
       "  <tbody>\n",
       "    <tr>\n",
       "      <th>0</th>\n",
       "      <td>0</td>\n",
       "      <td>0</td>\n",
       "      <td>0</td>\n",
       "      <td>4</td>\n",
       "      <td>ve ever disneyland anywhere ll find disneyland...</td>\n",
       "      <td>ve ever anywhere ll find hong kong similar lay...</td>\n",
       "      <td>ve ever anywhere ll find hong kong similar lay...</td>\n",
       "      <td>ve ever anywher ll find hong kong similar layo...</td>\n",
       "      <td>ve ever anywher ll find hong kong similar layo...</td>\n",
       "      <td>ve ever anywher all find hong kong similar lay...</td>\n",
       "      <td>ever anywher  find hong kong similar layout w...</td>\n",
       "      <td>0</td>\n",
       "      <td></td>\n",
       "      <td>ever anywher find hong kong similar layout wal...</td>\n",
       "      <td>ever anywher find hong kong similar layout wal...</td>\n",
       "    </tr>\n",
       "  </tbody>\n",
       "</table>\n",
       "</div>"
      ],
      "text/plain": [
       "   Unnamed: 0  Unnamed: 0.1  Unnamed: 0.1.1  Rating  \\\n",
       "0           0             0               0       4   \n",
       "\n",
       "                                         Review_Text  \\\n",
       "0  ve ever disneyland anywhere ll find disneyland...   \n",
       "\n",
       "                                        Review_Text1  \\\n",
       "0  ve ever anywhere ll find hong kong similar lay...   \n",
       "\n",
       "                                        Review_Text2  \\\n",
       "0  ve ever anywhere ll find hong kong similar lay...   \n",
       "\n",
       "                                        text_stemmed  \\\n",
       "0  ve ever anywher ll find hong kong similar layo...   \n",
       "\n",
       "                                     text_lemmatized  \\\n",
       "0  ve ever anywher ll find hong kong similar layo...   \n",
       "\n",
       "                                      text_corrected  \\\n",
       "0  ve ever anywher all find hong kong similar lay...   \n",
       "\n",
       "                                     Without3letters  Emoji_Count  \\\n",
       "0   ever anywher  find hong kong similar layout w...            0   \n",
       "\n",
       "                  WithoutEmojis  \\\n",
       "0                                 \n",
       "\n",
       "                                       Removed_words  \\\n",
       "0  ever anywher find hong kong similar layout wal...   \n",
       "\n",
       "                                       Reviews_words  \n",
       "0  ever anywher find hong kong similar layout wal...  "
      ]
     },
     "execution_count": 3,
     "metadata": {},
     "output_type": "execute_result"
    }
   ],
   "source": [
    "df.head(1)"
   ]
  },
  {
   "cell_type": "code",
   "execution_count": 6,
   "id": "223d3ee7",
   "metadata": {},
   "outputs": [
    {
     "data": {
      "text/html": [
       "<div>\n",
       "<style scoped>\n",
       "    .dataframe tbody tr th:only-of-type {\n",
       "        vertical-align: middle;\n",
       "    }\n",
       "\n",
       "    .dataframe tbody tr th {\n",
       "        vertical-align: top;\n",
       "    }\n",
       "\n",
       "    .dataframe thead th {\n",
       "        text-align: right;\n",
       "    }\n",
       "</style>\n",
       "<table border=\"1\" class=\"dataframe\">\n",
       "  <thead>\n",
       "    <tr style=\"text-align: right;\">\n",
       "      <th></th>\n",
       "      <th>aaaaaand</th>\n",
       "      <th>aaahhh</th>\n",
       "      <th>aback</th>\n",
       "      <th>abandon</th>\n",
       "      <th>abbrevi</th>\n",
       "      <th>abdomen</th>\n",
       "      <th>abel</th>\n",
       "      <th>aberdeen</th>\n",
       "      <th>abhor</th>\n",
       "      <th>abit</th>\n",
       "      <th>...</th>\n",
       "      <th>ziplock</th>\n",
       "      <th>zipper</th>\n",
       "      <th>zirconium</th>\n",
       "      <th>zombi</th>\n",
       "      <th>zombieland</th>\n",
       "      <th>zone</th>\n",
       "      <th>zones</th>\n",
       "      <th>zoom</th>\n",
       "      <th>zootopia</th>\n",
       "      <th>zulqairil</th>\n",
       "    </tr>\n",
       "    <tr>\n",
       "      <th>Reviews_words</th>\n",
       "      <th></th>\n",
       "      <th></th>\n",
       "      <th></th>\n",
       "      <th></th>\n",
       "      <th></th>\n",
       "      <th></th>\n",
       "      <th></th>\n",
       "      <th></th>\n",
       "      <th></th>\n",
       "      <th></th>\n",
       "      <th></th>\n",
       "      <th></th>\n",
       "      <th></th>\n",
       "      <th></th>\n",
       "      <th></th>\n",
       "      <th></th>\n",
       "      <th></th>\n",
       "      <th></th>\n",
       "      <th></th>\n",
       "      <th></th>\n",
       "      <th></th>\n",
       "    </tr>\n",
       "  </thead>\n",
       "  <tbody>\n",
       "    <tr>\n",
       "      <th>ever anywher find hong kong similar layout walk main street familiar feel small world absolut kabul worth visit fairly busi queue move fairly well</th>\n",
       "      <td>0</td>\n",
       "      <td>0</td>\n",
       "      <td>0</td>\n",
       "      <td>0</td>\n",
       "      <td>0</td>\n",
       "      <td>0</td>\n",
       "      <td>0</td>\n",
       "      <td>0</td>\n",
       "      <td>0</td>\n",
       "      <td>0</td>\n",
       "      <td>...</td>\n",
       "      <td>0</td>\n",
       "      <td>0</td>\n",
       "      <td>0</td>\n",
       "      <td>0</td>\n",
       "      <td>0</td>\n",
       "      <td>0</td>\n",
       "      <td>0</td>\n",
       "      <td>0</td>\n",
       "      <td>0</td>\n",
       "      <td>0</td>\n",
       "    </tr>\n",
       "    <tr>\n",
       "      <th>since last visit stay tomorrowland marvel land iron experi newly open wasp ironman great feature exit espect whole scenery central area kowloon altman chang previous buzz lightyear less expect someth howe like space mountain turn star great cast member staff felt minu point just feel like brand seem local like ocean even smile face just wanna enter attract leav hello suppos happy place earth brand just really dont feel bakery main street attract delicacy theme sweet good point last also starbuck inside theme</th>\n",
       "      <td>0</td>\n",
       "      <td>0</td>\n",
       "      <td>0</td>\n",
       "      <td>0</td>\n",
       "      <td>0</td>\n",
       "      <td>0</td>\n",
       "      <td>0</td>\n",
       "      <td>0</td>\n",
       "      <td>0</td>\n",
       "      <td>0</td>\n",
       "      <td>...</td>\n",
       "      <td>0</td>\n",
       "      <td>0</td>\n",
       "      <td>0</td>\n",
       "      <td>0</td>\n",
       "      <td>0</td>\n",
       "      <td>0</td>\n",
       "      <td>0</td>\n",
       "      <td>0</td>\n",
       "      <td>0</td>\n",
       "      <td>0</td>\n",
       "    </tr>\n",
       "    <tr>\n",
       "      <th>thank humid visit otherwise issue shade arriv around leave unfortune last even parade hour much plenty everyone will find someth interest enjoy extreme busi long queue certain attract minut really although amaz felt underwhelm choice attract quit small really expect someth grand even main cast close quit small food option good coffe shop include starbuck plenty gift shop issue toilet everywher toget great really enjoy</th>\n",
       "      <td>0</td>\n",
       "      <td>0</td>\n",
       "      <td>0</td>\n",
       "      <td>0</td>\n",
       "      <td>0</td>\n",
       "      <td>0</td>\n",
       "      <td>0</td>\n",
       "      <td>0</td>\n",
       "      <td>0</td>\n",
       "      <td>0</td>\n",
       "      <td>...</td>\n",
       "      <td>0</td>\n",
       "      <td>0</td>\n",
       "      <td>0</td>\n",
       "      <td>0</td>\n",
       "      <td>0</td>\n",
       "      <td>0</td>\n",
       "      <td>0</td>\n",
       "      <td>0</td>\n",
       "      <td>0</td>\n",
       "      <td>0</td>\n",
       "    </tr>\n",
       "    <tr>\n",
       "      <th>great compact unfortune quit maintain work present number area close include famous cast midweek crowd certainly near notice visit price food drink really roof prepare dollar snack avoid souvenir shop regardless will love</th>\n",
       "      <td>0</td>\n",
       "      <td>0</td>\n",
       "      <td>0</td>\n",
       "      <td>0</td>\n",
       "      <td>0</td>\n",
       "      <td>0</td>\n",
       "      <td>0</td>\n",
       "      <td>0</td>\n",
       "      <td>0</td>\n",
       "      <td>0</td>\n",
       "      <td>...</td>\n",
       "      <td>0</td>\n",
       "      <td>0</td>\n",
       "      <td>0</td>\n",
       "      <td>0</td>\n",
       "      <td>0</td>\n",
       "      <td>0</td>\n",
       "      <td>0</td>\n",
       "      <td>0</td>\n",
       "      <td>0</td>\n",
       "      <td>0</td>\n",
       "    </tr>\n",
       "    <tr>\n",
       "      <th>local city take around hour kowloon like much everyth fine really crowd hong kong</th>\n",
       "      <td>0</td>\n",
       "      <td>0</td>\n",
       "      <td>0</td>\n",
       "      <td>0</td>\n",
       "      <td>0</td>\n",
       "      <td>0</td>\n",
       "      <td>0</td>\n",
       "      <td>0</td>\n",
       "      <td>0</td>\n",
       "      <td>0</td>\n",
       "      <td>...</td>\n",
       "      <td>0</td>\n",
       "      <td>0</td>\n",
       "      <td>0</td>\n",
       "      <td>0</td>\n",
       "      <td>0</td>\n",
       "      <td>0</td>\n",
       "      <td>0</td>\n",
       "      <td>0</td>\n",
       "      <td>0</td>\n",
       "      <td>0</td>\n",
       "    </tr>\n",
       "    <tr>\n",
       "      <th>world anaheim tokyo feel hong kong really small call attract souvenir food even entrance ticket slightly expense well basic good small child peopl never food choice accept mostly fast food expense bottle water howe expense water fountain around refill water bottle parade pretty good crowd problem problem peopl just rude push shove line gift shop food stand just much take forget show free seat happen manage property</th>\n",
       "      <td>0</td>\n",
       "      <td>0</td>\n",
       "      <td>0</td>\n",
       "      <td>0</td>\n",
       "      <td>0</td>\n",
       "      <td>0</td>\n",
       "      <td>0</td>\n",
       "      <td>0</td>\n",
       "      <td>0</td>\n",
       "      <td>0</td>\n",
       "      <td>...</td>\n",
       "      <td>0</td>\n",
       "      <td>0</td>\n",
       "      <td>0</td>\n",
       "      <td>0</td>\n",
       "      <td>0</td>\n",
       "      <td>0</td>\n",
       "      <td>0</td>\n",
       "      <td>0</td>\n",
       "      <td>0</td>\n",
       "      <td>0</td>\n",
       "    </tr>\n",
       "    <tr>\n",
       "      <th>great place will even know obvious daughter absolut love parade cancel though</th>\n",
       "      <td>0</td>\n",
       "      <td>0</td>\n",
       "      <td>0</td>\n",
       "      <td>0</td>\n",
       "      <td>0</td>\n",
       "      <td>0</td>\n",
       "      <td>0</td>\n",
       "      <td>0</td>\n",
       "      <td>0</td>\n",
       "      <td>0</td>\n",
       "      <td>...</td>\n",
       "      <td>0</td>\n",
       "      <td>0</td>\n",
       "      <td>0</td>\n",
       "      <td>0</td>\n",
       "      <td>0</td>\n",
       "      <td>0</td>\n",
       "      <td>0</td>\n",
       "      <td>0</td>\n",
       "      <td>0</td>\n",
       "      <td>0</td>\n",
       "    </tr>\n",
       "    <tr>\n",
       "      <th>think intro magic littl almost attract complet drawback time example storybook theater close privat event restaur close week tour well best plan visit week disappoint food even maxim decent restaur main street corner cafe main street bakery prepare topic abrupt hongkong style service serv staff</th>\n",
       "      <td>0</td>\n",
       "      <td>0</td>\n",
       "      <td>0</td>\n",
       "      <td>0</td>\n",
       "      <td>0</td>\n",
       "      <td>0</td>\n",
       "      <td>0</td>\n",
       "      <td>0</td>\n",
       "      <td>0</td>\n",
       "      <td>0</td>\n",
       "      <td>...</td>\n",
       "      <td>0</td>\n",
       "      <td>0</td>\n",
       "      <td>0</td>\n",
       "      <td>0</td>\n",
       "      <td>0</td>\n",
       "      <td>0</td>\n",
       "      <td>0</td>\n",
       "      <td>0</td>\n",
       "      <td>0</td>\n",
       "      <td>0</td>\n",
       "    </tr>\n",
       "    <tr>\n",
       "      <th>feel place train fantasy past station signal terrible staff just want rain work find place price character cabana photo visitor rain dont wast money walt horrific enough place amount peopl rest room seem build someth know atmosphere fantasy</th>\n",
       "      <td>0</td>\n",
       "      <td>0</td>\n",
       "      <td>0</td>\n",
       "      <td>0</td>\n",
       "      <td>0</td>\n",
       "      <td>0</td>\n",
       "      <td>0</td>\n",
       "      <td>0</td>\n",
       "      <td>0</td>\n",
       "      <td>0</td>\n",
       "      <td>...</td>\n",
       "      <td>0</td>\n",
       "      <td>0</td>\n",
       "      <td>0</td>\n",
       "      <td>0</td>\n",
       "      <td>0</td>\n",
       "      <td>0</td>\n",
       "      <td>0</td>\n",
       "      <td>0</td>\n",
       "      <td>0</td>\n",
       "      <td>0</td>\n",
       "    </tr>\n",
       "    <tr>\n",
       "      <th>talk whate childhood dream come true start entrance environ popcorn show everyth even train station special design opinion ticket explore well attract remain incomplete online ticket save around comparison spot ticket must miss attract include jungle river cruise micki pillar magic show lion king howit well home work regard show time maximise number show cover well avoid sunday public holiday avoid rush</th>\n",
       "      <td>0</td>\n",
       "      <td>0</td>\n",
       "      <td>0</td>\n",
       "      <td>0</td>\n",
       "      <td>0</td>\n",
       "      <td>0</td>\n",
       "      <td>0</td>\n",
       "      <td>0</td>\n",
       "      <td>0</td>\n",
       "      <td>0</td>\n",
       "      <td>...</td>\n",
       "      <td>0</td>\n",
       "      <td>0</td>\n",
       "      <td>0</td>\n",
       "      <td>0</td>\n",
       "      <td>0</td>\n",
       "      <td>0</td>\n",
       "      <td>0</td>\n",
       "      <td>0</td>\n",
       "      <td>0</td>\n",
       "      <td>0</td>\n",
       "    </tr>\n",
       "  </tbody>\n",
       "</table>\n",
       "<p>10 rows × 11028 columns</p>\n",
       "</div>"
      ],
      "text/plain": [
       "                                                    aaaaaand  aaahhh  aback  \\\n",
       "Reviews_words                                                                 \n",
       "ever anywher find hong kong similar layout walk...         0       0      0   \n",
       "since last visit stay tomorrowland marvel land ...         0       0      0   \n",
       "thank humid visit otherwise issue shade arriv a...         0       0      0   \n",
       "great compact unfortune quit maintain work pres...         0       0      0   \n",
       "local city take around hour kowloon like much e...         0       0      0   \n",
       "world anaheim tokyo feel hong kong really small...         0       0      0   \n",
       "great place will even know obvious daughter abs...         0       0      0   \n",
       "think intro magic littl almost attract complet ...         0       0      0   \n",
       "feel place train fantasy past station signal te...         0       0      0   \n",
       "talk whate childhood dream come true start entr...         0       0      0   \n",
       "\n",
       "                                                    abandon  abbrevi  abdomen  \\\n",
       "Reviews_words                                                                   \n",
       "ever anywher find hong kong similar layout walk...        0        0        0   \n",
       "since last visit stay tomorrowland marvel land ...        0        0        0   \n",
       "thank humid visit otherwise issue shade arriv a...        0        0        0   \n",
       "great compact unfortune quit maintain work pres...        0        0        0   \n",
       "local city take around hour kowloon like much e...        0        0        0   \n",
       "world anaheim tokyo feel hong kong really small...        0        0        0   \n",
       "great place will even know obvious daughter abs...        0        0        0   \n",
       "think intro magic littl almost attract complet ...        0        0        0   \n",
       "feel place train fantasy past station signal te...        0        0        0   \n",
       "talk whate childhood dream come true start entr...        0        0        0   \n",
       "\n",
       "                                                    abel  aberdeen  abhor  \\\n",
       "Reviews_words                                                               \n",
       "ever anywher find hong kong similar layout walk...     0         0      0   \n",
       "since last visit stay tomorrowland marvel land ...     0         0      0   \n",
       "thank humid visit otherwise issue shade arriv a...     0         0      0   \n",
       "great compact unfortune quit maintain work pres...     0         0      0   \n",
       "local city take around hour kowloon like much e...     0         0      0   \n",
       "world anaheim tokyo feel hong kong really small...     0         0      0   \n",
       "great place will even know obvious daughter abs...     0         0      0   \n",
       "think intro magic littl almost attract complet ...     0         0      0   \n",
       "feel place train fantasy past station signal te...     0         0      0   \n",
       "talk whate childhood dream come true start entr...     0         0      0   \n",
       "\n",
       "                                                    abit  ...  ziplock  \\\n",
       "Reviews_words                                             ...            \n",
       "ever anywher find hong kong similar layout walk...     0  ...        0   \n",
       "since last visit stay tomorrowland marvel land ...     0  ...        0   \n",
       "thank humid visit otherwise issue shade arriv a...     0  ...        0   \n",
       "great compact unfortune quit maintain work pres...     0  ...        0   \n",
       "local city take around hour kowloon like much e...     0  ...        0   \n",
       "world anaheim tokyo feel hong kong really small...     0  ...        0   \n",
       "great place will even know obvious daughter abs...     0  ...        0   \n",
       "think intro magic littl almost attract complet ...     0  ...        0   \n",
       "feel place train fantasy past station signal te...     0  ...        0   \n",
       "talk whate childhood dream come true start entr...     0  ...        0   \n",
       "\n",
       "                                                    zipper  zirconium  zombi  \\\n",
       "Reviews_words                                                                  \n",
       "ever anywher find hong kong similar layout walk...       0          0      0   \n",
       "since last visit stay tomorrowland marvel land ...       0          0      0   \n",
       "thank humid visit otherwise issue shade arriv a...       0          0      0   \n",
       "great compact unfortune quit maintain work pres...       0          0      0   \n",
       "local city take around hour kowloon like much e...       0          0      0   \n",
       "world anaheim tokyo feel hong kong really small...       0          0      0   \n",
       "great place will even know obvious daughter abs...       0          0      0   \n",
       "think intro magic littl almost attract complet ...       0          0      0   \n",
       "feel place train fantasy past station signal te...       0          0      0   \n",
       "talk whate childhood dream come true start entr...       0          0      0   \n",
       "\n",
       "                                                    zombieland  zone  zones  \\\n",
       "Reviews_words                                                                 \n",
       "ever anywher find hong kong similar layout walk...           0     0      0   \n",
       "since last visit stay tomorrowland marvel land ...           0     0      0   \n",
       "thank humid visit otherwise issue shade arriv a...           0     0      0   \n",
       "great compact unfortune quit maintain work pres...           0     0      0   \n",
       "local city take around hour kowloon like much e...           0     0      0   \n",
       "world anaheim tokyo feel hong kong really small...           0     0      0   \n",
       "great place will even know obvious daughter abs...           0     0      0   \n",
       "think intro magic littl almost attract complet ...           0     0      0   \n",
       "feel place train fantasy past station signal te...           0     0      0   \n",
       "talk whate childhood dream come true start entr...           0     0      0   \n",
       "\n",
       "                                                    zoom  zootopia  zulqairil  \n",
       "Reviews_words                                                                  \n",
       "ever anywher find hong kong similar layout walk...     0         0          0  \n",
       "since last visit stay tomorrowland marvel land ...     0         0          0  \n",
       "thank humid visit otherwise issue shade arriv a...     0         0          0  \n",
       "great compact unfortune quit maintain work pres...     0         0          0  \n",
       "local city take around hour kowloon like much e...     0         0          0  \n",
       "world anaheim tokyo feel hong kong really small...     0         0          0  \n",
       "great place will even know obvious daughter abs...     0         0          0  \n",
       "think intro magic littl almost attract complet ...     0         0          0  \n",
       "feel place train fantasy past station signal te...     0         0          0  \n",
       "talk whate childhood dream come true start entr...     0         0          0  \n",
       "\n",
       "[10 rows x 11028 columns]"
      ]
     },
     "execution_count": 6,
     "metadata": {},
     "output_type": "execute_result"
    }
   ],
   "source": [
    "vectorizer = CountVectorizer(stop_words = 'english')\n",
    "doc_word = vectorizer.fit_transform(df.Reviews_words)\n",
    "pd.DataFrame(doc_word.toarray(), index=df.Reviews_words, columns=vectorizer.get_feature_names()).head(10)"
   ]
  },
  {
   "cell_type": "code",
   "execution_count": 12,
   "id": "fae73ee4",
   "metadata": {},
   "outputs": [
    {
     "name": "stderr",
     "output_type": "stream",
     "text": [
      "C:\\Users\\mai_a\\anaconda3\\lib\\site-packages\\sklearn\\decomposition\\_nmf.py:312: FutureWarning: The 'init' value, when 'init=None' and n_components is less than n_samples and n_features, will be changed from 'nndsvd' to 'nndsvda' in 1.1 (renaming of 0.26).\n",
      "  warnings.warn((\"The 'init' value, when 'init=None' and \"\n"
     ]
    }
   ],
   "source": [
    "nmf_model = NMF(5)\n",
    "doc_topic = nmf_model.fit_transform(doc_word)"
   ]
  },
  {
   "cell_type": "code",
   "execution_count": 13,
   "id": "55ad1ea8",
   "metadata": {},
   "outputs": [
    {
     "data": {
      "text/html": [
       "<div>\n",
       "<style scoped>\n",
       "    .dataframe tbody tr th:only-of-type {\n",
       "        vertical-align: middle;\n",
       "    }\n",
       "\n",
       "    .dataframe tbody tr th {\n",
       "        vertical-align: top;\n",
       "    }\n",
       "\n",
       "    .dataframe thead th {\n",
       "        text-align: right;\n",
       "    }\n",
       "</style>\n",
       "<table border=\"1\" class=\"dataframe\">\n",
       "  <thead>\n",
       "    <tr style=\"text-align: right;\">\n",
       "      <th></th>\n",
       "      <th>aaaaaand</th>\n",
       "      <th>aaahhh</th>\n",
       "      <th>aback</th>\n",
       "      <th>abandon</th>\n",
       "      <th>abbrevi</th>\n",
       "      <th>abdomen</th>\n",
       "      <th>abel</th>\n",
       "      <th>aberdeen</th>\n",
       "      <th>abhor</th>\n",
       "      <th>abit</th>\n",
       "      <th>...</th>\n",
       "      <th>ziplock</th>\n",
       "      <th>zipper</th>\n",
       "      <th>zirconium</th>\n",
       "      <th>zombi</th>\n",
       "      <th>zombieland</th>\n",
       "      <th>zone</th>\n",
       "      <th>zones</th>\n",
       "      <th>zoom</th>\n",
       "      <th>zootopia</th>\n",
       "      <th>zulqairil</th>\n",
       "    </tr>\n",
       "  </thead>\n",
       "  <tbody>\n",
       "    <tr>\n",
       "      <th>t1</th>\n",
       "      <td>0.000</td>\n",
       "      <td>0.000</td>\n",
       "      <td>0.000</td>\n",
       "      <td>0.005</td>\n",
       "      <td>0.002</td>\n",
       "      <td>0.000</td>\n",
       "      <td>0.000</td>\n",
       "      <td>0.000</td>\n",
       "      <td>0.001</td>\n",
       "      <td>0.004</td>\n",
       "      <td>...</td>\n",
       "      <td>0.000</td>\n",
       "      <td>0.000</td>\n",
       "      <td>0.0</td>\n",
       "      <td>0.009</td>\n",
       "      <td>0.000</td>\n",
       "      <td>0.044</td>\n",
       "      <td>0.001</td>\n",
       "      <td>0.000</td>\n",
       "      <td>0.003</td>\n",
       "      <td>0.0</td>\n",
       "    </tr>\n",
       "    <tr>\n",
       "      <th>t2</th>\n",
       "      <td>0.000</td>\n",
       "      <td>0.000</td>\n",
       "      <td>0.001</td>\n",
       "      <td>0.000</td>\n",
       "      <td>0.000</td>\n",
       "      <td>0.000</td>\n",
       "      <td>0.000</td>\n",
       "      <td>0.000</td>\n",
       "      <td>0.000</td>\n",
       "      <td>0.000</td>\n",
       "      <td>...</td>\n",
       "      <td>0.009</td>\n",
       "      <td>0.007</td>\n",
       "      <td>0.0</td>\n",
       "      <td>0.003</td>\n",
       "      <td>0.000</td>\n",
       "      <td>0.000</td>\n",
       "      <td>0.000</td>\n",
       "      <td>0.000</td>\n",
       "      <td>0.000</td>\n",
       "      <td>0.0</td>\n",
       "    </tr>\n",
       "    <tr>\n",
       "      <th>t3</th>\n",
       "      <td>0.000</td>\n",
       "      <td>0.000</td>\n",
       "      <td>0.000</td>\n",
       "      <td>0.002</td>\n",
       "      <td>0.000</td>\n",
       "      <td>0.003</td>\n",
       "      <td>0.000</td>\n",
       "      <td>0.000</td>\n",
       "      <td>0.002</td>\n",
       "      <td>0.000</td>\n",
       "      <td>...</td>\n",
       "      <td>0.002</td>\n",
       "      <td>0.000</td>\n",
       "      <td>0.0</td>\n",
       "      <td>0.006</td>\n",
       "      <td>0.000</td>\n",
       "      <td>0.030</td>\n",
       "      <td>0.000</td>\n",
       "      <td>0.015</td>\n",
       "      <td>0.000</td>\n",
       "      <td>0.0</td>\n",
       "    </tr>\n",
       "    <tr>\n",
       "      <th>t4</th>\n",
       "      <td>0.002</td>\n",
       "      <td>0.000</td>\n",
       "      <td>0.002</td>\n",
       "      <td>0.008</td>\n",
       "      <td>0.004</td>\n",
       "      <td>0.000</td>\n",
       "      <td>0.001</td>\n",
       "      <td>0.000</td>\n",
       "      <td>0.000</td>\n",
       "      <td>0.005</td>\n",
       "      <td>...</td>\n",
       "      <td>0.000</td>\n",
       "      <td>0.000</td>\n",
       "      <td>0.0</td>\n",
       "      <td>0.000</td>\n",
       "      <td>0.000</td>\n",
       "      <td>0.014</td>\n",
       "      <td>0.000</td>\n",
       "      <td>0.000</td>\n",
       "      <td>0.000</td>\n",
       "      <td>0.0</td>\n",
       "    </tr>\n",
       "    <tr>\n",
       "      <th>t5</th>\n",
       "      <td>0.000</td>\n",
       "      <td>0.001</td>\n",
       "      <td>0.000</td>\n",
       "      <td>0.000</td>\n",
       "      <td>0.000</td>\n",
       "      <td>0.000</td>\n",
       "      <td>0.001</td>\n",
       "      <td>0.001</td>\n",
       "      <td>0.000</td>\n",
       "      <td>0.006</td>\n",
       "      <td>...</td>\n",
       "      <td>0.000</td>\n",
       "      <td>0.000</td>\n",
       "      <td>0.0</td>\n",
       "      <td>0.000</td>\n",
       "      <td>0.001</td>\n",
       "      <td>0.040</td>\n",
       "      <td>0.005</td>\n",
       "      <td>0.003</td>\n",
       "      <td>0.000</td>\n",
       "      <td>0.0</td>\n",
       "    </tr>\n",
       "  </tbody>\n",
       "</table>\n",
       "<p>5 rows × 11028 columns</p>\n",
       "</div>"
      ],
      "text/plain": [
       "    aaaaaand  aaahhh  aback  abandon  abbrevi  abdomen   abel  aberdeen  \\\n",
       "t1     0.000   0.000  0.000    0.005    0.002    0.000  0.000     0.000   \n",
       "t2     0.000   0.000  0.001    0.000    0.000    0.000  0.000     0.000   \n",
       "t3     0.000   0.000  0.000    0.002    0.000    0.003  0.000     0.000   \n",
       "t4     0.002   0.000  0.002    0.008    0.004    0.000  0.001     0.000   \n",
       "t5     0.000   0.001  0.000    0.000    0.000    0.000  0.001     0.001   \n",
       "\n",
       "    abhor   abit  ...  ziplock  zipper  zirconium  zombi  zombieland   zone  \\\n",
       "t1  0.001  0.004  ...    0.000   0.000        0.0  0.009       0.000  0.044   \n",
       "t2  0.000  0.000  ...    0.009   0.007        0.0  0.003       0.000  0.000   \n",
       "t3  0.002  0.000  ...    0.002   0.000        0.0  0.006       0.000  0.030   \n",
       "t4  0.000  0.005  ...    0.000   0.000        0.0  0.000       0.000  0.014   \n",
       "t5  0.000  0.006  ...    0.000   0.000        0.0  0.000       0.001  0.040   \n",
       "\n",
       "    zones   zoom  zootopia  zulqairil  \n",
       "t1  0.001  0.000     0.003        0.0  \n",
       "t2  0.000  0.000     0.000        0.0  \n",
       "t3  0.000  0.015     0.000        0.0  \n",
       "t4  0.000  0.000     0.000        0.0  \n",
       "t5  0.005  0.003     0.000        0.0  \n",
       "\n",
       "[5 rows x 11028 columns]"
      ]
     },
     "execution_count": 13,
     "metadata": {},
     "output_type": "execute_result"
    }
   ],
   "source": [
    "topic_word = pd.DataFrame(nmf_model.components_.round(3),\n",
    "             index = [\"t1\",\"t2\",\"t3\",\"t4\", \"t5\"],\n",
    "             columns = vectorizer.get_feature_names())\n",
    "topic_word"
   ]
  },
  {
   "cell_type": "code",
   "execution_count": 14,
   "id": "56f7ceb4",
   "metadata": {},
   "outputs": [],
   "source": [
    "def display_topics(model, feature_names, no_top_words, topic_names=None):\n",
    "    for ix, topic in enumerate(model.components_):\n",
    "        if not topic_names or not topic_names[ix]:\n",
    "            print(\"\\nTopic \", ix)\n",
    "        else:\n",
    "            print(\"\\nTopic: '\",topic_names[ix],\"'\")\n",
    "        print(\", \".join([feature_names[i]\n",
    "                        for i in topic.argsort()[:-no_top_words - 1:-1]]))"
   ]
  },
  {
   "cell_type": "code",
   "execution_count": 15,
   "id": "c950c840",
   "metadata": {},
   "outputs": [
    {
     "name": "stdout",
     "output_type": "stream",
     "text": [
      "\n",
      "Topic  0\n",
      "just, parade, place, great, love, make, good, really, like, firework\n",
      "\n",
      "Topic  1\n",
      "line, wait, long, fast, peopl, hour, minut, ticket, crowd, time\n",
      "\n",
      "Topic  2\n",
      "ride, mountain, space, fast, like, world, fatass, wait, star, small\n",
      "\n",
      "Topic  3\n",
      "visit, attract, place, enjoy, year, park, crowd, experi, world, magic\n",
      "\n",
      "Topic  4\n",
      "hong, kong, small, queue, food, good, attract, train, ticket, land\n"
     ]
    }
   ],
   "source": [
    "display_topics(nmf_model, vectorizer.get_feature_names(), 10)"
   ]
  },
  {
   "cell_type": "code",
   "execution_count": 107,
   "id": "d320eeb2",
   "metadata": {},
   "outputs": [
    {
     "data": {
      "image/png": "[encoded data removed]",
      "text/plain": [
       "<Figure size 432x288 with 1 Axes>"
      ]
     },
     "metadata": {
      "needs_background": "light"
     },
     "output_type": "display_data"
    }
   ],
   "source": [
    "# Libraries\n",
    "from wordcloud import WordCloud\n",
    "import matplotlib.pyplot as plt\n",
    "\n",
    "# Create a list of word\n",
    "text=(\"just parade place place place place great great great love love love love love make good good good good really like like like like firework firework\")\n",
    "\n",
    "# Create the wordcloud object\n",
    "wordcloud = WordCloud(width=480, height=480, margin=0).generate(text)\n",
    "\n",
    "# Display the generated image:\n",
    "plt.imshow(wordcloud, interpolation='bilinear')\n",
    "plt.axis(\"off\")\n",
    "plt.margins(x=0, y=0)\n",
    "plt.show()"
   ]
  },
  {
   "cell_type": "code",
   "execution_count": 108,
   "id": "76bae516",
   "metadata": {},
   "outputs": [
    {
     "data": {
      "image/png": "[encoded data removed]",
      "text/plain": [
       "<Figure size 432x288 with 1 Axes>"
      ]
     },
     "metadata": {
      "needs_background": "light"
     },
     "output_type": "display_data"
    }
   ],
   "source": [
    "# Libraries\n",
    "from wordcloud import WordCloud\n",
    "import matplotlib.pyplot as plt\n",
    "\n",
    "# Create a list of word\n",
    "text=(\"line line line line line wait wait wait wait long long fast fast fast peopl hour minut ticket ticket ticket crowd crowd crowd time time time time\")\n",
    "\n",
    "# Create the wordcloud object\n",
    "wordcloud = WordCloud(width=480, height=480, margin=0).generate(text)\n",
    "\n",
    "# Display the generated image:\n",
    "plt.imshow(wordcloud, interpolation='bilinear')\n",
    "plt.axis(\"off\")\n",
    "plt.margins(x=0, y=0)\n",
    "plt.show()"
   ]
  },
  {
   "cell_type": "code",
   "execution_count": null,
   "id": "05722ac9",
   "metadata": {},
   "outputs": [],
   "source": [
    "# Libraries\n",
    "from wordcloud import WordCloud\n",
    "import matplotlib.pyplot as plt\n",
    "\n",
    "# Create a list of word\n",
    "text=(\"Python Python Python Matplotlib\")\n",
    "\n",
    "# Create the wordcloud object\n",
    "wordcloud = WordCloud(width=480, height=480, margin=0).generate(text)\n",
    "\n",
    "# Display the generated image:\n",
    "plt.imshow(wordcloud, interpolation='bilinear')\n",
    "plt.axis(\"off\")\n",
    "plt.margins(x=0, y=0)\n",
    "plt.show()"
   ]
  },
  {
   "cell_type": "code",
   "execution_count": 106,
   "id": "f5f66cc8",
   "metadata": {},
   "outputs": [
    {
     "ename": "AttributeError",
     "evalue": "'NMF' object has no attribute 'show_topics'",
     "output_type": "error",
     "traceback": [
      "\u001b[1;31m---------------------------------------------------------------------------\u001b[0m",
      "\u001b[1;31mAttributeError\u001b[0m                            Traceback (most recent call last)",
      "\u001b[1;32m<ipython-input-106-14a76818b1ed>\u001b[0m in \u001b[0;36m<module>\u001b[1;34m\u001b[0m\n\u001b[0;32m     15\u001b[0m                   prefer_horizontal=1.0)\n\u001b[0;32m     16\u001b[0m \u001b[1;33m\u001b[0m\u001b[0m\n\u001b[1;32m---> 17\u001b[1;33m \u001b[0mtopics\u001b[0m \u001b[1;33m=\u001b[0m \u001b[0mnmf_model\u001b[0m\u001b[1;33m.\u001b[0m\u001b[0mshow_topics\u001b[0m\u001b[1;33m(\u001b[0m\u001b[0mformatted\u001b[0m\u001b[1;33m=\u001b[0m\u001b[1;32mFalse\u001b[0m\u001b[1;33m)\u001b[0m\u001b[1;33m\u001b[0m\u001b[1;33m\u001b[0m\u001b[0m\n\u001b[0m\u001b[0;32m     18\u001b[0m \u001b[1;33m\u001b[0m\u001b[0m\n\u001b[0;32m     19\u001b[0m \u001b[0mfig\u001b[0m\u001b[1;33m,\u001b[0m \u001b[0maxes\u001b[0m \u001b[1;33m=\u001b[0m \u001b[0mplt\u001b[0m\u001b[1;33m.\u001b[0m\u001b[0msubplots\u001b[0m\u001b[1;33m(\u001b[0m\u001b[1;36m2\u001b[0m\u001b[1;33m,\u001b[0m \u001b[1;36m2\u001b[0m\u001b[1;33m,\u001b[0m \u001b[0mfigsize\u001b[0m\u001b[1;33m=\u001b[0m\u001b[1;33m(\u001b[0m\u001b[1;36m10\u001b[0m\u001b[1;33m,\u001b[0m\u001b[1;36m10\u001b[0m\u001b[1;33m)\u001b[0m\u001b[1;33m,\u001b[0m \u001b[0msharex\u001b[0m\u001b[1;33m=\u001b[0m\u001b[1;32mTrue\u001b[0m\u001b[1;33m,\u001b[0m \u001b[0msharey\u001b[0m\u001b[1;33m=\u001b[0m\u001b[1;32mTrue\u001b[0m\u001b[1;33m)\u001b[0m\u001b[1;33m\u001b[0m\u001b[1;33m\u001b[0m\u001b[0m\n",
      "\u001b[1;31mAttributeError\u001b[0m: 'NMF' object has no attribute 'show_topics'"
     ]
    }
   ],
   "source": [
    "# 1. Wordcloud of Top N words in each topic\n",
    "from matplotlib import pyplot as plt\n",
    "from wordcloud import WordCloud, STOPWORDS\n",
    "import matplotlib.colors as mcolors\n",
    "\n",
    "cols = [color for name, color in mcolors.TABLEAU_COLORS.items()]  # more colors: 'mcolors.XKCD_COLORS'\n",
    "\n",
    "cloud = WordCloud(\n",
    "                  background_color='white',\n",
    "                  width=2500,\n",
    "                  height=1800,\n",
    "                  max_words=10,\n",
    "                  colormap='tab10',\n",
    "                  color_func=lambda *args, **kwargs: cols[i],\n",
    "                  prefer_horizontal=1.0)\n",
    "\n",
    "topics = nmf_model.show_topics(formatted=False)\n",
    "\n",
    "fig, axes = plt.subplots(2, 2, figsize=(10,10), sharex=True, sharey=True)\n",
    "\n",
    "for i, ax in enumerate(axes.flatten()):\n",
    "    fig.add_subplot(ax)\n",
    "    topic_words = dict(topics[i][1])\n",
    "    cloud.generate_from_frequencies(topic_words, max_font_size=300)\n",
    "    plt.gca().imshow(cloud)\n",
    "    plt.gca().set_title('Topic ' + str(i), fontdict=dict(size=16))\n",
    "    plt.gca().axis('off')\n",
    "\n",
    "\n",
    "plt.subplots_adjust(wspace=0, hspace=0)\n",
    "plt.axis('off')\n",
    "plt.margins(x=0, y=0)\n",
    "plt.tight_layout()\n",
    "plt.show()"
   ]
  },
  {
   "cell_type": "code",
   "execution_count": 104,
   "id": "0d7e294f",
   "metadata": {},
   "outputs": [
    {
     "name": "stdout",
     "output_type": "stream",
     "text": [
      "Collecting wordcloud\n",
      "  Downloading wordcloud-1.8.1-cp38-cp38-win_amd64.whl (155 kB)\n",
      "Requirement already satisfied: matplotlib in c:\\users\\mai_a\\anaconda3\\lib\\site-packages (from wordcloud) (3.3.4)\n",
      "Requirement already satisfied: pillow in c:\\users\\mai_a\\anaconda3\\lib\\site-packages (from wordcloud) (8.2.0)\n",
      "Requirement already satisfied: numpy>=1.6.1 in c:\\users\\mai_a\\anaconda3\\lib\\site-packages (from wordcloud) (1.20.1)\n",
      "Requirement already satisfied: kiwisolver>=1.0.1 in c:\\users\\mai_a\\anaconda3\\lib\\site-packages (from matplotlib->wordcloud) (1.3.1)\n",
      "Requirement already satisfied: pyparsing!=2.0.4,!=2.1.2,!=2.1.6,>=2.0.3 in c:\\users\\mai_a\\anaconda3\\lib\\site-packages (from matplotlib->wordcloud) (2.4.7)\n",
      "Requirement already satisfied: python-dateutil>=2.1 in c:\\users\\mai_a\\anaconda3\\lib\\site-packages (from matplotlib->wordcloud) (2.8.1)\n",
      "Requirement already satisfied: cycler>=0.10 in c:\\users\\mai_a\\anaconda3\\lib\\site-packages (from matplotlib->wordcloud) (0.10.0)\n",
      "Requirement already satisfied: six in c:\\users\\mai_a\\anaconda3\\lib\\site-packages (from cycler>=0.10->matplotlib->wordcloud) (1.15.0)\n",
      "Installing collected packages: wordcloud\n",
      "Successfully installed wordcloud-1.8.1\n"
     ]
    }
   ],
   "source": [
    "!pip install wordcloud"
   ]
  },
  {
   "cell_type": "code",
   "execution_count": 17,
   "id": "c8686479",
   "metadata": {},
   "outputs": [
    {
     "data": {
      "text/html": [
       "<div>\n",
       "<style scoped>\n",
       "    .dataframe tbody tr th:only-of-type {\n",
       "        vertical-align: middle;\n",
       "    }\n",
       "\n",
       "    .dataframe tbody tr th {\n",
       "        vertical-align: top;\n",
       "    }\n",
       "\n",
       "    .dataframe thead th {\n",
       "        text-align: right;\n",
       "    }\n",
       "</style>\n",
       "<table border=\"1\" class=\"dataframe\">\n",
       "  <thead>\n",
       "    <tr style=\"text-align: right;\">\n",
       "      <th></th>\n",
       "      <th>t1</th>\n",
       "      <th>t2</th>\n",
       "      <th>t3</th>\n",
       "      <th>t4</th>\n",
       "      <th>t5</th>\n",
       "    </tr>\n",
       "    <tr>\n",
       "      <th>Reviews_words</th>\n",
       "      <th></th>\n",
       "      <th></th>\n",
       "      <th></th>\n",
       "      <th></th>\n",
       "      <th></th>\n",
       "    </tr>\n",
       "  </thead>\n",
       "  <tbody>\n",
       "    <tr>\n",
       "      <th>ever anywher find hong kong similar layout walk main street familiar feel small world absolut kabul worth visit fairly busi queue move fairly well</th>\n",
       "      <td>0.00000</td>\n",
       "      <td>0.00000</td>\n",
       "      <td>0.00424</td>\n",
       "      <td>0.08184</td>\n",
       "      <td>0.15949</td>\n",
       "    </tr>\n",
       "    <tr>\n",
       "      <th>since last visit stay tomorrowland marvel land iron experi newly open wasp ironman great feature exit espect whole scenery central area kowloon altman chang previous buzz lightyear less expect someth howe like space mountain turn star great cast member staff felt minu point just feel like brand seem local like ocean even smile face just wanna enter attract leav hello suppos happy place earth brand just really dont feel bakery main street attract delicacy theme sweet good point last also starbuck inside theme</th>\n",
       "      <td>0.19132</td>\n",
       "      <td>0.00000</td>\n",
       "      <td>0.05590</td>\n",
       "      <td>0.09010</td>\n",
       "      <td>0.04078</td>\n",
       "    </tr>\n",
       "    <tr>\n",
       "      <th>thank humid visit otherwise issue shade arriv around leave unfortune last even parade hour much plenty everyone will find someth interest enjoy extreme busi long queue certain attract minut really although amaz felt underwhelm choice attract quit small really expect someth grand even main cast close quit small food option good coffe shop include starbuck plenty gift shop issue toilet everywher toget great really enjoy</th>\n",
       "      <td>0.12366</td>\n",
       "      <td>0.00696</td>\n",
       "      <td>0.01044</td>\n",
       "      <td>0.09735</td>\n",
       "      <td>0.12997</td>\n",
       "    </tr>\n",
       "    <tr>\n",
       "      <th>great compact unfortune quit maintain work present number area close include famous cast midweek crowd certainly near notice visit price food drink really roof prepare dollar snack avoid souvenir shop regardless will love</th>\n",
       "      <td>0.06930</td>\n",
       "      <td>0.00281</td>\n",
       "      <td>0.00000</td>\n",
       "      <td>0.07827</td>\n",
       "      <td>0.00672</td>\n",
       "    </tr>\n",
       "    <tr>\n",
       "      <th>local city take around hour kowloon like much everyth fine really crowd hong kong</th>\n",
       "      <td>0.00919</td>\n",
       "      <td>0.01505</td>\n",
       "      <td>0.00000</td>\n",
       "      <td>0.00000</td>\n",
       "      <td>0.10901</td>\n",
       "    </tr>\n",
       "    <tr>\n",
       "      <th>...</th>\n",
       "      <td>...</td>\n",
       "      <td>...</td>\n",
       "      <td>...</td>\n",
       "      <td>...</td>\n",
       "      <td>...</td>\n",
       "    </tr>\n",
       "    <tr>\n",
       "      <th>love second year annual love stay usual saturday night spend hour love firework show cours</th>\n",
       "      <td>0.06869</td>\n",
       "      <td>0.00000</td>\n",
       "      <td>0.00000</td>\n",
       "      <td>0.00031</td>\n",
       "      <td>0.00000</td>\n",
       "    </tr>\n",
       "    <tr>\n",
       "      <th>noth describe word just amaz inde happy place access miss attract miss busi small world least time full round ride tram night space mountain small best refresh roller coaster ride will find favorit firework parade</th>\n",
       "      <td>0.05468</td>\n",
       "      <td>0.00000</td>\n",
       "      <td>0.17413</td>\n",
       "      <td>0.01213</td>\n",
       "      <td>0.04846</td>\n",
       "    </tr>\n",
       "    <tr>\n",
       "      <th>everyth great short line peopl splash mountain close bummer</th>\n",
       "      <td>0.00941</td>\n",
       "      <td>0.05932</td>\n",
       "      <td>0.01950</td>\n",
       "      <td>0.00000</td>\n",
       "      <td>0.00000</td>\n",
       "    </tr>\n",
       "    <tr>\n",
       "      <th>time love immacul cast member kind cheer alway happi help hand popular close refurbish visit haunt mansion matterhow splash mountain revisit frozen sing along show need fatass popular rent wheelchair easy cost really help around special need child</th>\n",
       "      <td>0.04645</td>\n",
       "      <td>0.01317</td>\n",
       "      <td>0.04497</td>\n",
       "      <td>0.08328</td>\n",
       "      <td>0.00000</td>\n",
       "    </tr>\n",
       "    <tr>\n",
       "      <th>childhood dream mine final take three child travel australia littl differ expect cast tiny littl disappoint look much photo exactly thrill littl mostly attent detail amaz make like fantasy main street parade live expect must firework also must make sure early best view make sure find exactly night firework ever night huge will need least three line ridicule long coupl really popular solo rider ride much quick solo rider ride hour half wait solo rider within ride toget still experi ride without wait line half fast fast allow come back ride quicker want commit back certain line differ ride stay hotel walk lunch back hotel young sleep rest huge back rest dinner firework really enjoy meet favourite character great</th>\n",
       "      <td>0.17822</td>\n",
       "      <td>0.20855</td>\n",
       "      <td>0.40761</td>\n",
       "      <td>0.00000</td>\n",
       "      <td>0.00000</td>\n",
       "    </tr>\n",
       "  </tbody>\n",
       "</table>\n",
       "<p>20000 rows × 5 columns</p>\n",
       "</div>"
      ],
      "text/plain": [
       "                                                         t1       t2       t3  \\\n",
       "Reviews_words                                                                   \n",
       "ever anywher find hong kong similar layout walk...  0.00000  0.00000  0.00424   \n",
       "since last visit stay tomorrowland marvel land ...  0.19132  0.00000  0.05590   \n",
       "thank humid visit otherwise issue shade arriv a...  0.12366  0.00696  0.01044   \n",
       "great compact unfortune quit maintain work pres...  0.06930  0.00281  0.00000   \n",
       "local city take around hour kowloon like much e...  0.00919  0.01505  0.00000   \n",
       "...                                                     ...      ...      ...   \n",
       "love second year annual love stay usual saturda...  0.06869  0.00000  0.00000   \n",
       "noth describe word just amaz inde happy place a...  0.05468  0.00000  0.17413   \n",
       "everyth great short line peopl splash mountain ...  0.00941  0.05932  0.01950   \n",
       "time love immacul cast member kind cheer alway ...  0.04645  0.01317  0.04497   \n",
       "childhood dream mine final take three child tra...  0.17822  0.20855  0.40761   \n",
       "\n",
       "                                                         t4       t5  \n",
       "Reviews_words                                                         \n",
       "ever anywher find hong kong similar layout walk...  0.08184  0.15949  \n",
       "since last visit stay tomorrowland marvel land ...  0.09010  0.04078  \n",
       "thank humid visit otherwise issue shade arriv a...  0.09735  0.12997  \n",
       "great compact unfortune quit maintain work pres...  0.07827  0.00672  \n",
       "local city take around hour kowloon like much e...  0.00000  0.10901  \n",
       "...                                                     ...      ...  \n",
       "love second year annual love stay usual saturda...  0.00031  0.00000  \n",
       "noth describe word just amaz inde happy place a...  0.01213  0.04846  \n",
       "everyth great short line peopl splash mountain ...  0.00000  0.00000  \n",
       "time love immacul cast member kind cheer alway ...  0.08328  0.00000  \n",
       "childhood dream mine final take three child tra...  0.00000  0.00000  \n",
       "\n",
       "[20000 rows x 5 columns]"
      ]
     },
     "execution_count": 17,
     "metadata": {},
     "output_type": "execute_result"
    }
   ],
   "source": [
    "H = pd.DataFrame(doc_topic.round(5),\n",
    "             index = df.Reviews_words,\n",
    "             columns = [\"t1\",\"t2\", \"t3\",\"t4\", \"t5\" ])\n"
   ]
  },
  {
   "cell_type": "code",
   "execution_count": 18,
   "id": "3171fc42",
   "metadata": {},
   "outputs": [
    {
     "data": {
      "text/html": [
       "<div>\n",
       "<style scoped>\n",
       "    .dataframe tbody tr th:only-of-type {\n",
       "        vertical-align: middle;\n",
       "    }\n",
       "\n",
       "    .dataframe tbody tr th {\n",
       "        vertical-align: top;\n",
       "    }\n",
       "\n",
       "    .dataframe thead th {\n",
       "        text-align: right;\n",
       "    }\n",
       "</style>\n",
       "<table border=\"1\" class=\"dataframe\">\n",
       "  <thead>\n",
       "    <tr style=\"text-align: right;\">\n",
       "      <th></th>\n",
       "      <th>t1</th>\n",
       "      <th>t2</th>\n",
       "      <th>t3</th>\n",
       "      <th>t4</th>\n",
       "      <th>t5</th>\n",
       "    </tr>\n",
       "    <tr>\n",
       "      <th>Reviews_words</th>\n",
       "      <th></th>\n",
       "      <th></th>\n",
       "      <th></th>\n",
       "      <th></th>\n",
       "      <th></th>\n",
       "    </tr>\n",
       "  </thead>\n",
       "  <tbody>\n",
       "    <tr>\n",
       "      <th>ever anywher find hong kong similar layout walk main street familiar feel small world absolut kabul worth visit fairly busi queue move fairly well</th>\n",
       "      <td>0.00000</td>\n",
       "      <td>0.00000</td>\n",
       "      <td>0.00424</td>\n",
       "      <td>0.08184</td>\n",
       "      <td>0.15949</td>\n",
       "    </tr>\n",
       "    <tr>\n",
       "      <th>since last visit stay tomorrowland marvel land iron experi newly open wasp ironman great feature exit espect whole scenery central area kowloon altman chang previous buzz lightyear less expect someth howe like space mountain turn star great cast member staff felt minu point just feel like brand seem local like ocean even smile face just wanna enter attract leav hello suppos happy place earth brand just really dont feel bakery main street attract delicacy theme sweet good point last also starbuck inside theme</th>\n",
       "      <td>0.19132</td>\n",
       "      <td>0.00000</td>\n",
       "      <td>0.05590</td>\n",
       "      <td>0.09010</td>\n",
       "      <td>0.04078</td>\n",
       "    </tr>\n",
       "    <tr>\n",
       "      <th>thank humid visit otherwise issue shade arriv around leave unfortune last even parade hour much plenty everyone will find someth interest enjoy extreme busi long queue certain attract minut really although amaz felt underwhelm choice attract quit small really expect someth grand even main cast close quit small food option good coffe shop include starbuck plenty gift shop issue toilet everywher toget great really enjoy</th>\n",
       "      <td>0.12366</td>\n",
       "      <td>0.00696</td>\n",
       "      <td>0.01044</td>\n",
       "      <td>0.09735</td>\n",
       "      <td>0.12997</td>\n",
       "    </tr>\n",
       "    <tr>\n",
       "      <th>great compact unfortune quit maintain work present number area close include famous cast midweek crowd certainly near notice visit price food drink really roof prepare dollar snack avoid souvenir shop regardless will love</th>\n",
       "      <td>0.06930</td>\n",
       "      <td>0.00281</td>\n",
       "      <td>0.00000</td>\n",
       "      <td>0.07827</td>\n",
       "      <td>0.00672</td>\n",
       "    </tr>\n",
       "    <tr>\n",
       "      <th>local city take around hour kowloon like much everyth fine really crowd hong kong</th>\n",
       "      <td>0.00919</td>\n",
       "      <td>0.01505</td>\n",
       "      <td>0.00000</td>\n",
       "      <td>0.00000</td>\n",
       "      <td>0.10901</td>\n",
       "    </tr>\n",
       "  </tbody>\n",
       "</table>\n",
       "</div>"
      ],
      "text/plain": [
       "                                                         t1       t2       t3  \\\n",
       "Reviews_words                                                                   \n",
       "ever anywher find hong kong similar layout walk...  0.00000  0.00000  0.00424   \n",
       "since last visit stay tomorrowland marvel land ...  0.19132  0.00000  0.05590   \n",
       "thank humid visit otherwise issue shade arriv a...  0.12366  0.00696  0.01044   \n",
       "great compact unfortune quit maintain work pres...  0.06930  0.00281  0.00000   \n",
       "local city take around hour kowloon like much e...  0.00919  0.01505  0.00000   \n",
       "\n",
       "                                                         t4       t5  \n",
       "Reviews_words                                                         \n",
       "ever anywher find hong kong similar layout walk...  0.08184  0.15949  \n",
       "since last visit stay tomorrowland marvel land ...  0.09010  0.04078  \n",
       "thank humid visit otherwise issue shade arriv a...  0.09735  0.12997  \n",
       "great compact unfortune quit maintain work pres...  0.07827  0.00672  \n",
       "local city take around hour kowloon like much e...  0.00000  0.10901  "
      ]
     },
     "execution_count": 18,
     "metadata": {},
     "output_type": "execute_result"
    }
   ],
   "source": [
    "H.head()"
   ]
  },
  {
   "cell_type": "code",
   "execution_count": 55,
   "id": "129e5e93",
   "metadata": {},
   "outputs": [
    {
     "data": {
      "text/html": [
       "<div>\n",
       "<style scoped>\n",
       "    .dataframe tbody tr th:only-of-type {\n",
       "        vertical-align: middle;\n",
       "    }\n",
       "\n",
       "    .dataframe tbody tr th {\n",
       "        vertical-align: top;\n",
       "    }\n",
       "\n",
       "    .dataframe thead th {\n",
       "        text-align: right;\n",
       "    }\n",
       "</style>\n",
       "<table border=\"1\" class=\"dataframe\">\n",
       "  <thead>\n",
       "    <tr style=\"text-align: right;\">\n",
       "      <th></th>\n",
       "      <th>t1</th>\n",
       "      <th>t2</th>\n",
       "      <th>t3</th>\n",
       "      <th>t4</th>\n",
       "      <th>t5</th>\n",
       "    </tr>\n",
       "    <tr>\n",
       "      <th>Reviews_words</th>\n",
       "      <th></th>\n",
       "      <th></th>\n",
       "      <th></th>\n",
       "      <th></th>\n",
       "      <th></th>\n",
       "    </tr>\n",
       "  </thead>\n",
       "  <tbody>\n",
       "    <tr>\n",
       "      <th>ever anywher find hong kong similar layout walk main street familiar feel small world absolut kabul worth visit fairly busi queue move fairly well</th>\n",
       "      <td>0.00000</td>\n",
       "      <td>0.00000</td>\n",
       "      <td>0.00424</td>\n",
       "      <td>0.08184</td>\n",
       "      <td>0.15949</td>\n",
       "    </tr>\n",
       "    <tr>\n",
       "      <th>since last visit stay tomorrowland marvel land iron experi newly open wasp ironman great feature exit espect whole scenery central area kowloon altman chang previous buzz lightyear less expect someth howe like space mountain turn star great cast member staff felt minu point just feel like brand seem local like ocean even smile face just wanna enter attract leav hello suppos happy place earth brand just really dont feel bakery main street attract delicacy theme sweet good point last also starbuck inside theme</th>\n",
       "      <td>0.19132</td>\n",
       "      <td>0.00000</td>\n",
       "      <td>0.05590</td>\n",
       "      <td>0.09010</td>\n",
       "      <td>0.04078</td>\n",
       "    </tr>\n",
       "    <tr>\n",
       "      <th>thank humid visit otherwise issue shade arriv around leave unfortune last even parade hour much plenty everyone will find someth interest enjoy extreme busi long queue certain attract minut really although amaz felt underwhelm choice attract quit small really expect someth grand even main cast close quit small food option good coffe shop include starbuck plenty gift shop issue toilet everywher toget great really enjoy</th>\n",
       "      <td>0.12366</td>\n",
       "      <td>0.00696</td>\n",
       "      <td>0.01044</td>\n",
       "      <td>0.09735</td>\n",
       "      <td>0.12997</td>\n",
       "    </tr>\n",
       "    <tr>\n",
       "      <th>great compact unfortune quit maintain work present number area close include famous cast midweek crowd certainly near notice visit price food drink really roof prepare dollar snack avoid souvenir shop regardless will love</th>\n",
       "      <td>0.06930</td>\n",
       "      <td>0.00281</td>\n",
       "      <td>0.00000</td>\n",
       "      <td>0.07827</td>\n",
       "      <td>0.00672</td>\n",
       "    </tr>\n",
       "    <tr>\n",
       "      <th>local city take around hour kowloon like much everyth fine really crowd hong kong</th>\n",
       "      <td>0.00919</td>\n",
       "      <td>0.01505</td>\n",
       "      <td>0.00000</td>\n",
       "      <td>0.00000</td>\n",
       "      <td>0.10901</td>\n",
       "    </tr>\n",
       "    <tr>\n",
       "      <th>...</th>\n",
       "      <td>...</td>\n",
       "      <td>...</td>\n",
       "      <td>...</td>\n",
       "      <td>...</td>\n",
       "      <td>...</td>\n",
       "    </tr>\n",
       "    <tr>\n",
       "      <th>love second year annual love stay usual saturday night spend hour love firework show cours</th>\n",
       "      <td>0.06869</td>\n",
       "      <td>0.00000</td>\n",
       "      <td>0.00000</td>\n",
       "      <td>0.00031</td>\n",
       "      <td>0.00000</td>\n",
       "    </tr>\n",
       "    <tr>\n",
       "      <th>noth describe word just amaz inde happy place access miss attract miss busi small world least time full round ride tram night space mountain small best refresh roller coaster ride will find favorit firework parade</th>\n",
       "      <td>0.05468</td>\n",
       "      <td>0.00000</td>\n",
       "      <td>0.17413</td>\n",
       "      <td>0.01213</td>\n",
       "      <td>0.04846</td>\n",
       "    </tr>\n",
       "    <tr>\n",
       "      <th>everyth great short line peopl splash mountain close bummer</th>\n",
       "      <td>0.00941</td>\n",
       "      <td>0.05932</td>\n",
       "      <td>0.01950</td>\n",
       "      <td>0.00000</td>\n",
       "      <td>0.00000</td>\n",
       "    </tr>\n",
       "    <tr>\n",
       "      <th>time love immacul cast member kind cheer alway happi help hand popular close refurbish visit haunt mansion matterhow splash mountain revisit frozen sing along show need fatass popular rent wheelchair easy cost really help around special need child</th>\n",
       "      <td>0.04645</td>\n",
       "      <td>0.01317</td>\n",
       "      <td>0.04497</td>\n",
       "      <td>0.08328</td>\n",
       "      <td>0.00000</td>\n",
       "    </tr>\n",
       "    <tr>\n",
       "      <th>childhood dream mine final take three child travel australia littl differ expect cast tiny littl disappoint look much photo exactly thrill littl mostly attent detail amaz make like fantasy main street parade live expect must firework also must make sure early best view make sure find exactly night firework ever night huge will need least three line ridicule long coupl really popular solo rider ride much quick solo rider ride hour half wait solo rider within ride toget still experi ride without wait line half fast fast allow come back ride quicker want commit back certain line differ ride stay hotel walk lunch back hotel young sleep rest huge back rest dinner firework really enjoy meet favourite character great</th>\n",
       "      <td>0.17822</td>\n",
       "      <td>0.20855</td>\n",
       "      <td>0.40761</td>\n",
       "      <td>0.00000</td>\n",
       "      <td>0.00000</td>\n",
       "    </tr>\n",
       "  </tbody>\n",
       "</table>\n",
       "<p>20000 rows × 5 columns</p>\n",
       "</div>"
      ],
      "text/plain": [
       "                                                         t1       t2       t3  \\\n",
       "Reviews_words                                                                   \n",
       "ever anywher find hong kong similar layout walk...  0.00000  0.00000  0.00424   \n",
       "since last visit stay tomorrowland marvel land ...  0.19132  0.00000  0.05590   \n",
       "thank humid visit otherwise issue shade arriv a...  0.12366  0.00696  0.01044   \n",
       "great compact unfortune quit maintain work pres...  0.06930  0.00281  0.00000   \n",
       "local city take around hour kowloon like much e...  0.00919  0.01505  0.00000   \n",
       "...                                                     ...      ...      ...   \n",
       "love second year annual love stay usual saturda...  0.06869  0.00000  0.00000   \n",
       "noth describe word just amaz inde happy place a...  0.05468  0.00000  0.17413   \n",
       "everyth great short line peopl splash mountain ...  0.00941  0.05932  0.01950   \n",
       "time love immacul cast member kind cheer alway ...  0.04645  0.01317  0.04497   \n",
       "childhood dream mine final take three child tra...  0.17822  0.20855  0.40761   \n",
       "\n",
       "                                                         t4       t5  \n",
       "Reviews_words                                                         \n",
       "ever anywher find hong kong similar layout walk...  0.08184  0.15949  \n",
       "since last visit stay tomorrowland marvel land ...  0.09010  0.04078  \n",
       "thank humid visit otherwise issue shade arriv a...  0.09735  0.12997  \n",
       "great compact unfortune quit maintain work pres...  0.07827  0.00672  \n",
       "local city take around hour kowloon like much e...  0.00000  0.10901  \n",
       "...                                                     ...      ...  \n",
       "love second year annual love stay usual saturda...  0.00031  0.00000  \n",
       "noth describe word just amaz inde happy place a...  0.01213  0.04846  \n",
       "everyth great short line peopl splash mountain ...  0.00000  0.00000  \n",
       "time love immacul cast member kind cheer alway ...  0.08328  0.00000  \n",
       "childhood dream mine final take three child tra...  0.00000  0.00000  \n",
       "\n",
       "[20000 rows x 5 columns]"
      ]
     },
     "execution_count": 55,
     "metadata": {},
     "output_type": "execute_result"
    }
   ],
   "source": [
    "X = H[[\"t1\",\"t2\",\"t3\",\"t4\",\"t5\"]]\n",
    "y = df[\"Rating\"]\n",
    "X"
   ]
  },
  {
   "cell_type": "code",
   "execution_count": 75,
   "id": "46931948",
   "metadata": {},
   "outputs": [],
   "source": [
    "import numpy as np\n",
    "# 1 for popular and 0 for not popular\n",
    "df['Rating_binary']=np.where(df['Rating']>= 4, 1, 0)"
   ]
  },
  {
   "cell_type": "code",
   "execution_count": 57,
   "id": "eac975c8",
   "metadata": {},
   "outputs": [
    {
     "data": {
      "text/html": [
       "<div>\n",
       "<style scoped>\n",
       "    .dataframe tbody tr th:only-of-type {\n",
       "        vertical-align: middle;\n",
       "    }\n",
       "\n",
       "    .dataframe tbody tr th {\n",
       "        vertical-align: top;\n",
       "    }\n",
       "\n",
       "    .dataframe thead th {\n",
       "        text-align: right;\n",
       "    }\n",
       "</style>\n",
       "<table border=\"1\" class=\"dataframe\">\n",
       "  <thead>\n",
       "    <tr style=\"text-align: right;\">\n",
       "      <th></th>\n",
       "      <th>Unnamed: 0</th>\n",
       "      <th>Unnamed: 0.1</th>\n",
       "      <th>Unnamed: 0.1.1</th>\n",
       "      <th>Rating</th>\n",
       "      <th>Review_Text</th>\n",
       "      <th>Review_Text1</th>\n",
       "      <th>Review_Text2</th>\n",
       "      <th>text_stemmed</th>\n",
       "      <th>text_lemmatized</th>\n",
       "      <th>text_corrected</th>\n",
       "      <th>Without3letters</th>\n",
       "      <th>Emoji_Count</th>\n",
       "      <th>WithoutEmojis</th>\n",
       "      <th>Removed_words</th>\n",
       "      <th>Reviews_words</th>\n",
       "      <th>Rating_binary</th>\n",
       "    </tr>\n",
       "  </thead>\n",
       "  <tbody>\n",
       "    <tr>\n",
       "      <th>0</th>\n",
       "      <td>0</td>\n",
       "      <td>0</td>\n",
       "      <td>0</td>\n",
       "      <td>4</td>\n",
       "      <td>ve ever disneyland anywhere ll find disneyland...</td>\n",
       "      <td>ve ever anywhere ll find hong kong similar lay...</td>\n",
       "      <td>ve ever anywhere ll find hong kong similar lay...</td>\n",
       "      <td>ve ever anywher ll find hong kong similar layo...</td>\n",
       "      <td>ve ever anywher ll find hong kong similar layo...</td>\n",
       "      <td>ve ever anywher all find hong kong similar lay...</td>\n",
       "      <td>ever anywher  find hong kong similar layout w...</td>\n",
       "      <td>0</td>\n",
       "      <td></td>\n",
       "      <td>ever anywher find hong kong similar layout wal...</td>\n",
       "      <td>ever anywher find hong kong similar layout wal...</td>\n",
       "      <td>1</td>\n",
       "    </tr>\n",
       "  </tbody>\n",
       "</table>\n",
       "</div>"
      ],
      "text/plain": [
       "   Unnamed: 0  Unnamed: 0.1  Unnamed: 0.1.1  Rating  \\\n",
       "0           0             0               0       4   \n",
       "\n",
       "                                         Review_Text  \\\n",
       "0  ve ever disneyland anywhere ll find disneyland...   \n",
       "\n",
       "                                        Review_Text1  \\\n",
       "0  ve ever anywhere ll find hong kong similar lay...   \n",
       "\n",
       "                                        Review_Text2  \\\n",
       "0  ve ever anywhere ll find hong kong similar lay...   \n",
       "\n",
       "                                        text_stemmed  \\\n",
       "0  ve ever anywher ll find hong kong similar layo...   \n",
       "\n",
       "                                     text_lemmatized  \\\n",
       "0  ve ever anywher ll find hong kong similar layo...   \n",
       "\n",
       "                                      text_corrected  \\\n",
       "0  ve ever anywher all find hong kong similar lay...   \n",
       "\n",
       "                                     Without3letters  Emoji_Count  \\\n",
       "0   ever anywher  find hong kong similar layout w...            0   \n",
       "\n",
       "                  WithoutEmojis  \\\n",
       "0                                 \n",
       "\n",
       "                                       Removed_words  \\\n",
       "0  ever anywher find hong kong similar layout wal...   \n",
       "\n",
       "                                       Reviews_words  Rating_binary  \n",
       "0  ever anywher find hong kong similar layout wal...              1  "
      ]
     },
     "execution_count": 57,
     "metadata": {},
     "output_type": "execute_result"
    }
   ],
   "source": [
    "df.head(1)"
   ]
  },
  {
   "cell_type": "code",
   "execution_count": 58,
   "id": "d66cf108",
   "metadata": {},
   "outputs": [
    {
     "data": {
      "text/plain": [
       "0        4\n",
       "1        4\n",
       "2        4\n",
       "3        4\n",
       "4        4\n",
       "        ..\n",
       "19995    5\n",
       "19996    5\n",
       "19997    5\n",
       "19998    5\n",
       "19999    4\n",
       "Name: Rating, Length: 20000, dtype: int64"
      ]
     },
     "execution_count": 58,
     "metadata": {},
     "output_type": "execute_result"
    }
   ],
   "source": [
    "y"
   ]
  },
  {
   "cell_type": "code",
   "execution_count": 76,
   "id": "0c73304a",
   "metadata": {},
   "outputs": [],
   "source": [
    "y = df['Rating_binary']"
   ]
  },
  {
   "cell_type": "code",
   "execution_count": 77,
   "id": "f30e837e",
   "metadata": {},
   "outputs": [
    {
     "data": {
      "text/plain": [
       "1    16448\n",
       "0     3552\n",
       "Name: Rating_binary, dtype: int64"
      ]
     },
     "execution_count": 77,
     "metadata": {},
     "output_type": "execute_result"
    }
   ],
   "source": [
    "y.value_counts()"
   ]
  },
  {
   "cell_type": "code",
   "execution_count": 94,
   "id": "d42f119b",
   "metadata": {},
   "outputs": [],
   "source": [
    "from sklearn.metrics import f1_score, roc_auc_score\n",
    "n_pos = np.sum(y_train == 1)\n",
    "n_neg = np.sum(y_train == 0)\n",
    "ratio = {0 : n_neg * 4, 1 : n_pos}"
   ]
  },
  {
   "cell_type": "code",
   "execution_count": 96,
   "id": "930f59cb",
   "metadata": {},
   "outputs": [
    {
     "ename": "SyntaxError",
     "evalue": "invalid character in identifier (<ipython-input-96-55e941764e26>, line 6)",
     "output_type": "error",
     "traceback": [
      "\u001b[1;36m  File \u001b[1;32m\"<ipython-input-96-55e941764e26>\"\u001b[1;36m, line \u001b[1;32m6\u001b[0m\n\u001b[1;33m    (f1_score(y_val, lr_smote.predict(X_val)), roc_auc_score(y_val, lr_smote.predict_proba(X_val)[:,1])))\u001b[0m\n\u001b[1;37m                                                                                      ^\u001b[0m\n\u001b[1;31mSyntaxError\u001b[0m\u001b[1;31m:\u001b[0m invalid character in identifier\n"
     ]
    }
   ],
   "source": [
    "smote = imblearn.over_sampling.SMOTE(sampling_strategy=ratio, random_state = 42)\n",
    "X_tr_smote, y_tr_smote = smote.fit_resample(X_train1, y_train1)\n",
    "lr_smote = LogisticRegression(solver='liblinear')\n",
    "lr_smote.fit(X_tr_smote, y_tr_smote)\n",
    "print('Logistic Regression on SMOTE Train Data; Test F1: %.3f, Test AUC: %.3f' % \\\n",
    "      (f1_score(y_val, lr_smote.predict(X_val)), roc_auc_score(y_val, lr_smote.predict_proba(X_val)[:,1])))"
   ]
  },
  {
   "cell_type": "code",
   "execution_count": 78,
   "id": "70d122c3",
   "metadata": {},
   "outputs": [
    {
     "data": {
      "text/plain": [
       "((20000, 5), (20000,))"
      ]
     },
     "execution_count": 78,
     "metadata": {},
     "output_type": "execute_result"
    }
   ],
   "source": [
    "X.shape, y.shape"
   ]
  },
  {
   "cell_type": "code",
   "execution_count": 79,
   "id": "262349b7",
   "metadata": {},
   "outputs": [],
   "source": [
    "from sklearn.feature_extraction.text import TfidfVectorizer\n",
    "from sklearn.model_selection import train_test_split\n",
    "from sklearn.svm import LinearSVC\n",
    "from sklearn.metrics import classification_report"
   ]
  },
  {
   "cell_type": "code",
   "execution_count": 80,
   "id": "d11b0c1c",
   "metadata": {},
   "outputs": [],
   "source": [
    "X_train, X_test, y_train, y_test = train_test_split(X,y,test_size=0.2,random_state=0)"
   ]
  },
  {
   "cell_type": "code",
   "execution_count": 81,
   "id": "1c1826af",
   "metadata": {},
   "outputs": [],
   "source": [
    "X_train1, X_val, y_train1, y_val = train_test_split(X_train,y_train,test_size=0.2,random_state=0)"
   ]
  },
  {
   "cell_type": "code",
   "execution_count": 82,
   "id": "49f79f82",
   "metadata": {},
   "outputs": [
    {
     "data": {
      "text/plain": [
       "(16000, 5)"
      ]
     },
     "execution_count": 82,
     "metadata": {},
     "output_type": "execute_result"
    }
   ],
   "source": [
    "X_train.shape"
   ]
  },
  {
   "cell_type": "code",
   "execution_count": 83,
   "id": "b66c068a",
   "metadata": {},
   "outputs": [
    {
     "name": "stderr",
     "output_type": "stream",
     "text": [
      "C:\\Users\\mai_a\\anaconda3\\lib\\site-packages\\sklearn\\svm\\_base.py:985: ConvergenceWarning: Liblinear failed to converge, increase the number of iterations.\n",
      "  warnings.warn(\"Liblinear failed to converge, increase \"\n"
     ]
    },
    {
     "data": {
      "text/plain": [
       "LinearSVC(C=10, class_weight='balanced')"
      ]
     },
     "execution_count": 83,
     "metadata": {},
     "output_type": "execute_result"
    }
   ],
   "source": [
    "clf = LinearSVC(C=10, class_weight=\"balanced\")\n",
    "clf.fit(X_train, y_train)"
   ]
  },
  {
   "cell_type": "code",
   "execution_count": 84,
   "id": "604a7603",
   "metadata": {},
   "outputs": [
    {
     "data": {
      "text/plain": [
       "0.6709375"
      ]
     },
     "execution_count": 84,
     "metadata": {},
     "output_type": "execute_result"
    }
   ],
   "source": [
    "clf.score(X_val,y_val)"
   ]
  },
  {
   "cell_type": "code",
   "execution_count": 85,
   "id": "da8a0921",
   "metadata": {},
   "outputs": [
    {
     "data": {
      "text/plain": [
       "0.67725"
      ]
     },
     "execution_count": 85,
     "metadata": {},
     "output_type": "execute_result"
    }
   ],
   "source": [
    "clf.score(X_test,y_test)"
   ]
  },
  {
   "cell_type": "markdown",
   "id": "7be73592",
   "metadata": {},
   "source": [
    "### Logistic Regression"
   ]
  },
  {
   "cell_type": "code",
   "execution_count": 86,
   "id": "b9cb0868",
   "metadata": {},
   "outputs": [
    {
     "data": {
      "text/plain": [
       "LogisticRegression(C=1)"
      ]
     },
     "execution_count": 86,
     "metadata": {},
     "output_type": "execute_result"
    }
   ],
   "source": [
    "from sklearn.linear_model import LogisticRegression\n",
    "\n",
    "lr = LogisticRegression(C = 1) \n",
    "lr.fit(X_train1, y_train1)"
   ]
  },
  {
   "cell_type": "code",
   "execution_count": 102,
   "id": "f7d540fe",
   "metadata": {},
   "outputs": [
    {
     "data": {
      "text/plain": [
       "0.819609375"
      ]
     },
     "execution_count": 102,
     "metadata": {},
     "output_type": "execute_result"
    }
   ],
   "source": [
    "lr.score(X_train1, y_train1)"
   ]
  },
  {
   "cell_type": "code",
   "execution_count": 87,
   "id": "a4ecdc3e",
   "metadata": {},
   "outputs": [
    {
     "data": {
      "text/plain": [
       "0.8253125"
      ]
     },
     "execution_count": 87,
     "metadata": {},
     "output_type": "execute_result"
    }
   ],
   "source": [
    "lr.score(X_val,y_val)"
   ]
  },
  {
   "cell_type": "code",
   "execution_count": 88,
   "id": "a0e51f88",
   "metadata": {},
   "outputs": [
    {
     "data": {
      "text/plain": [
       "0.8325"
      ]
     },
     "execution_count": 88,
     "metadata": {},
     "output_type": "execute_result"
    }
   ],
   "source": [
    "lr.score(X_test,y_test)"
   ]
  },
  {
   "cell_type": "markdown",
   "id": "ec5cd073",
   "metadata": {},
   "source": [
    "### Random Forest"
   ]
  },
  {
   "cell_type": "code",
   "execution_count": 89,
   "id": "3f725ae7",
   "metadata": {},
   "outputs": [],
   "source": [
    "from sklearn.ensemble import RandomForestClassifier\n",
    "from sklearn.metrics import accuracy_score"
   ]
  },
  {
   "cell_type": "code",
   "execution_count": 101,
   "id": "4f47c064",
   "metadata": {},
   "outputs": [
    {
     "name": "stdout",
     "output_type": "stream",
     "text": [
      "Accuracy on train set: 0.827578125\n",
      "Accuracy on validation set: 0.824375\n",
      "Accuracy on test set: 0.83225\n"
     ]
    }
   ],
   "source": [
    "rf_clf = RandomForestClassifier(n_estimators = 100,max_features=5, max_depth=7,min_samples_leaf=2, random_state = 0)\n",
    "rf_clf.fit(X_train1, y_train1)\n",
    "print('Accuracy on train set:',rf_clf.score(X_train1, y_train1))\n",
    "print('Accuracy on validation set:',rf_clf.score(X_val,y_val))\n",
    "print('Accuracy on test set:',rf_clf.score(X_test,y_test))"
   ]
  },
  {
   "cell_type": "markdown",
   "id": "873533d9",
   "metadata": {},
   "source": [
    "## KNN"
   ]
  },
  {
   "cell_type": "code",
   "execution_count": 91,
   "id": "ad3b7a2f",
   "metadata": {},
   "outputs": [
    {
     "name": "stdout",
     "output_type": "stream",
     "text": [
      "Accuracy on validation set: 0.806875\n",
      "Accuracy on test set: 0.813\n"
     ]
    }
   ],
   "source": [
    "from sklearn.neighbors import KNeighborsClassifier\n",
    "knn = KNeighborsClassifier(n_neighbors = 10)\n",
    "knn.fit(X_train1, y_train1)\n",
    "print('Accuracy on validation set:',knn.score(X_val,y_val))\n",
    "print('Accuracy on test set:',knn.score(X_test, y_test))"
   ]
  },
  {
   "cell_type": "markdown",
   "id": "0f5c755a",
   "metadata": {},
   "source": [
    "## Naive Bayes"
   ]
  },
  {
   "cell_type": "code",
   "execution_count": 97,
   "id": "026384f4",
   "metadata": {},
   "outputs": [
    {
     "data": {
      "text/plain": [
       "MultinomialNB()"
      ]
     },
     "execution_count": 97,
     "metadata": {},
     "output_type": "execute_result"
    }
   ],
   "source": [
    "from sklearn.naive_bayes import MultinomialNB\n",
    "\n",
    "mnb = MultinomialNB()\n",
    "mnb.fit(X_train1, y_train1)"
   ]
  },
  {
   "cell_type": "code",
   "execution_count": 100,
   "id": "534ee458",
   "metadata": {},
   "outputs": [
    {
     "data": {
      "text/plain": [
       "0.8190625"
      ]
     },
     "execution_count": 100,
     "metadata": {},
     "output_type": "execute_result"
    }
   ],
   "source": [
    "mnb.score(X_train1, y_train1)"
   ]
  },
  {
   "cell_type": "code",
   "execution_count": 98,
   "id": "b74d65bc",
   "metadata": {},
   "outputs": [
    {
     "data": {
      "text/plain": [
       "0.824375"
      ]
     },
     "execution_count": 98,
     "metadata": {},
     "output_type": "execute_result"
    }
   ],
   "source": [
    "mnb.score(X_val,y_val)"
   ]
  },
  {
   "cell_type": "code",
   "execution_count": 99,
   "id": "18b55916",
   "metadata": {},
   "outputs": [
    {
     "data": {
      "text/plain": [
       "0.8315"
      ]
     },
     "execution_count": 99,
     "metadata": {},
     "output_type": "execute_result"
    }
   ],
   "source": [
    "mnb.score(X_test,y_test)"
   ]
  },
  {
   "cell_type": "code",
   "execution_count": 109,
   "id": "9847666f",
   "metadata": {},
   "outputs": [],
   "source": [
    "import pickle\n",
    "with open(f\"C:/Users/mai_a/Desktop/Project4_NLP/lr_model.pickle\", \"wb\") as pfile:\n",
    "    pickle.dump(lr, pfile)"
   ]
  },
  {
   "cell_type": "code",
   "execution_count": null,
   "id": "ceef4db0",
   "metadata": {},
   "outputs": [],
   "source": []
  }
 ],
 "metadata": {
  "kernelspec": {
   "display_name": "Python 3",
   "language": "python",
   "name": "python3"
  },
  "language_info": {
   "codemirror_mode": {
    "name": "ipython",
    "version": 3
   },
   "file_extension": ".py",
   "mimetype": "text/x-python",
   "name": "python",
   "nbconvert_exporter": "python",
   "pygments_lexer": "ipython3",
   "version": "3.8.8"
  }
 },
 "nbformat": 4,
 "nbformat_minor": 5
}
