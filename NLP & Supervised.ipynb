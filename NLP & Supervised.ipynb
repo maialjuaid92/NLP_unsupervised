{
 "cells": [
  {
   "cell_type": "code",
   "execution_count": 45,
   "id": "cd7c3468",
   "metadata": {},
   "outputs": [],
   "source": [
    "import pandas as pd\n",
    "import numpy as np\n",
    "from collections import Counter\n",
    "from stop_words import get_stop_words\n",
    "import contractions\n",
    "import re\n",
    "from spellchecker import SpellChecker\n",
    "from nltk.stem.porter import PorterStemmer\n",
    "from nltk.corpus import wordnet\n",
    "from nltk.stem import WordNetLemmatizer\n",
    "import emoji"
   ]
  },
  {
   "cell_type": "code",
   "execution_count": 171,
   "id": "da8f6661",
   "metadata": {},
   "outputs": [],
   "source": [
    "df = pd.read_csv(\"DisneylandReviews.csv\", usecols=[\"Review_Text\", \"Rating\"])"
   ]
  },
  {
   "cell_type": "code",
   "execution_count": 172,
   "id": "0b4ffa30",
   "metadata": {},
   "outputs": [],
   "source": [
    "df1 = df[:20000]"
   ]
  },
  {
   "cell_type": "code",
   "execution_count": 139,
   "id": "01236443",
   "metadata": {},
   "outputs": [
    {
     "data": {
      "text/html": [
       "<div>\n",
       "<style scoped>\n",
       "    .dataframe tbody tr th:only-of-type {\n",
       "        vertical-align: middle;\n",
       "    }\n",
       "\n",
       "    .dataframe tbody tr th {\n",
       "        vertical-align: top;\n",
       "    }\n",
       "\n",
       "    .dataframe thead th {\n",
       "        text-align: right;\n",
       "    }\n",
       "</style>\n",
       "<table border=\"1\" class=\"dataframe\">\n",
       "  <thead>\n",
       "    <tr style=\"text-align: right;\">\n",
       "      <th></th>\n",
       "      <th>Rating</th>\n",
       "      <th>Review_Text</th>\n",
       "    </tr>\n",
       "  </thead>\n",
       "  <tbody>\n",
       "    <tr>\n",
       "      <th>19995</th>\n",
       "      <td>5</td>\n",
       "      <td>I love going to Disneyland. I am on my second ...</td>\n",
       "    </tr>\n",
       "    <tr>\n",
       "      <th>19996</th>\n",
       "      <td>5</td>\n",
       "      <td>nothing can be described in words about disney...</td>\n",
       "    </tr>\n",
       "    <tr>\n",
       "      <th>19997</th>\n",
       "      <td>5</td>\n",
       "      <td>everything about Disneyland is great!!!!! shor...</td>\n",
       "    </tr>\n",
       "    <tr>\n",
       "      <th>19998</th>\n",
       "      <td>5</td>\n",
       "      <td>We have been to Disneyland a few times. Each t...</td>\n",
       "    </tr>\n",
       "    <tr>\n",
       "      <th>19999</th>\n",
       "      <td>4</td>\n",
       "      <td>It has been a childhood dream of mine to go to...</td>\n",
       "    </tr>\n",
       "  </tbody>\n",
       "</table>\n",
       "</div>"
      ],
      "text/plain": [
       "       Rating                                        Review_Text\n",
       "19995       5  I love going to Disneyland. I am on my second ...\n",
       "19996       5  nothing can be described in words about disney...\n",
       "19997       5  everything about Disneyland is great!!!!! shor...\n",
       "19998       5  We have been to Disneyland a few times. Each t...\n",
       "19999       4  It has been a childhood dream of mine to go to..."
      ]
     },
     "execution_count": 139,
     "metadata": {},
     "output_type": "execute_result"
    }
   ],
   "source": [
    "df1.tail()"
   ]
  },
  {
   "cell_type": "code",
   "execution_count": 136,
   "id": "21edf2ab",
   "metadata": {},
   "outputs": [
    {
     "data": {
      "text/html": [
       "<div>\n",
       "<style scoped>\n",
       "    .dataframe tbody tr th:only-of-type {\n",
       "        vertical-align: middle;\n",
       "    }\n",
       "\n",
       "    .dataframe tbody tr th {\n",
       "        vertical-align: top;\n",
       "    }\n",
       "\n",
       "    .dataframe thead th {\n",
       "        text-align: right;\n",
       "    }\n",
       "</style>\n",
       "<table border=\"1\" class=\"dataframe\">\n",
       "  <thead>\n",
       "    <tr style=\"text-align: right;\">\n",
       "      <th></th>\n",
       "      <th>Rating</th>\n",
       "      <th>Review_Text</th>\n",
       "    </tr>\n",
       "  </thead>\n",
       "  <tbody>\n",
       "    <tr>\n",
       "      <th>0</th>\n",
       "      <td>4</td>\n",
       "      <td>If you've ever been to Disneyland anywhere you...</td>\n",
       "    </tr>\n",
       "    <tr>\n",
       "      <th>1</th>\n",
       "      <td>4</td>\n",
       "      <td>Its been a while since d last time we visit HK...</td>\n",
       "    </tr>\n",
       "    <tr>\n",
       "      <th>2</th>\n",
       "      <td>4</td>\n",
       "      <td>Thanks God it wasn   t too hot or too humid wh...</td>\n",
       "    </tr>\n",
       "    <tr>\n",
       "      <th>3</th>\n",
       "      <td>4</td>\n",
       "      <td>HK Disneyland is a great compact park. Unfortu...</td>\n",
       "    </tr>\n",
       "    <tr>\n",
       "      <th>4</th>\n",
       "      <td>4</td>\n",
       "      <td>the location is not in the city, took around 1...</td>\n",
       "    </tr>\n",
       "  </tbody>\n",
       "</table>\n",
       "</div>"
      ],
      "text/plain": [
       "   Rating                                        Review_Text\n",
       "0       4  If you've ever been to Disneyland anywhere you...\n",
       "1       4  Its been a while since d last time we visit HK...\n",
       "2       4  Thanks God it wasn   t too hot or too humid wh...\n",
       "3       4  HK Disneyland is a great compact park. Unfortu...\n",
       "4       4  the location is not in the city, took around 1..."
      ]
     },
     "execution_count": 136,
     "metadata": {},
     "output_type": "execute_result"
    }
   ],
   "source": [
    "df1.head()"
   ]
  },
  {
   "cell_type": "code",
   "execution_count": 138,
   "id": "4b87658c",
   "metadata": {},
   "outputs": [
    {
     "name": "stdout",
     "output_type": "stream",
     "text": [
      "<class 'pandas.core.frame.DataFrame'>\n",
      "RangeIndex: 20000 entries, 0 to 19999\n",
      "Data columns (total 2 columns):\n",
      " #   Column       Non-Null Count  Dtype \n",
      "---  ------       --------------  ----- \n",
      " 0   Rating       20000 non-null  int64 \n",
      " 1   Review_Text  20000 non-null  object\n",
      "dtypes: int64(1), object(1)\n",
      "memory usage: 312.6+ KB\n"
     ]
    }
   ],
   "source": [
    "df1.info()"
   ]
  },
  {
   "cell_type": "code",
   "execution_count": 140,
   "id": "8fcd1972",
   "metadata": {},
   "outputs": [
    {
     "data": {
      "text/html": [
       "<div>\n",
       "<style scoped>\n",
       "    .dataframe tbody tr th:only-of-type {\n",
       "        vertical-align: middle;\n",
       "    }\n",
       "\n",
       "    .dataframe tbody tr th {\n",
       "        vertical-align: top;\n",
       "    }\n",
       "\n",
       "    .dataframe thead th {\n",
       "        text-align: right;\n",
       "    }\n",
       "</style>\n",
       "<table border=\"1\" class=\"dataframe\">\n",
       "  <thead>\n",
       "    <tr style=\"text-align: right;\">\n",
       "      <th></th>\n",
       "      <th>Rating</th>\n",
       "      <th>Review_Text</th>\n",
       "    </tr>\n",
       "  </thead>\n",
       "  <tbody>\n",
       "    <tr>\n",
       "      <th>6213</th>\n",
       "      <td>3</td>\n",
       "      <td>Nothing like Disneyland USA, if you are an adu...</td>\n",
       "    </tr>\n",
       "    <tr>\n",
       "      <th>8158</th>\n",
       "      <td>4</td>\n",
       "      <td>I was actually not keen to visit for a 3rd tim...</td>\n",
       "    </tr>\n",
       "    <tr>\n",
       "      <th>3201</th>\n",
       "      <td>5</td>\n",
       "      <td>Visited for the third time, this time with cou...</td>\n",
       "    </tr>\n",
       "    <tr>\n",
       "      <th>7963</th>\n",
       "      <td>5</td>\n",
       "      <td>Visited in late May 2013. Perfect time to go a...</td>\n",
       "    </tr>\n",
       "    <tr>\n",
       "      <th>1844</th>\n",
       "      <td>4</td>\n",
       "      <td>New lands with new rides has made this a real ...</td>\n",
       "    </tr>\n",
       "  </tbody>\n",
       "</table>\n",
       "</div>"
      ],
      "text/plain": [
       "      Rating                                        Review_Text\n",
       "6213       3  Nothing like Disneyland USA, if you are an adu...\n",
       "8158       4  I was actually not keen to visit for a 3rd tim...\n",
       "3201       5  Visited for the third time, this time with cou...\n",
       "7963       5  Visited in late May 2013. Perfect time to go a...\n",
       "1844       4  New lands with new rides has made this a real ..."
      ]
     },
     "execution_count": 140,
     "metadata": {},
     "output_type": "execute_result"
    }
   ],
   "source": [
    "df1.sample(5)"
   ]
  },
  {
   "cell_type": "code",
   "execution_count": 141,
   "id": "7526df3c",
   "metadata": {},
   "outputs": [
    {
     "data": {
      "text/plain": [
       "5    11129\n",
       "4     5319\n",
       "3     2323\n",
       "2      766\n",
       "1      463\n",
       "Name: Rating, dtype: int64"
      ]
     },
     "execution_count": 141,
     "metadata": {},
     "output_type": "execute_result"
    }
   ],
   "source": [
    "df1['Rating'].value_counts()"
   ]
  },
  {
   "cell_type": "code",
   "execution_count": 142,
   "id": "022abe71",
   "metadata": {},
   "outputs": [
    {
     "data": {
      "text/html": [
       "<div>\n",
       "<style scoped>\n",
       "    .dataframe tbody tr th:only-of-type {\n",
       "        vertical-align: middle;\n",
       "    }\n",
       "\n",
       "    .dataframe tbody tr th {\n",
       "        vertical-align: top;\n",
       "    }\n",
       "\n",
       "    .dataframe thead th {\n",
       "        text-align: right;\n",
       "    }\n",
       "</style>\n",
       "<table border=\"1\" class=\"dataframe\">\n",
       "  <thead>\n",
       "    <tr style=\"text-align: right;\">\n",
       "      <th></th>\n",
       "      <th>Rating</th>\n",
       "    </tr>\n",
       "  </thead>\n",
       "  <tbody>\n",
       "    <tr>\n",
       "      <th>count</th>\n",
       "      <td>20000.000000</td>\n",
       "    </tr>\n",
       "    <tr>\n",
       "      <th>mean</th>\n",
       "      <td>4.294250</td>\n",
       "    </tr>\n",
       "    <tr>\n",
       "      <th>std</th>\n",
       "      <td>0.973455</td>\n",
       "    </tr>\n",
       "    <tr>\n",
       "      <th>min</th>\n",
       "      <td>1.000000</td>\n",
       "    </tr>\n",
       "    <tr>\n",
       "      <th>25%</th>\n",
       "      <td>4.000000</td>\n",
       "    </tr>\n",
       "    <tr>\n",
       "      <th>50%</th>\n",
       "      <td>5.000000</td>\n",
       "    </tr>\n",
       "    <tr>\n",
       "      <th>75%</th>\n",
       "      <td>5.000000</td>\n",
       "    </tr>\n",
       "    <tr>\n",
       "      <th>max</th>\n",
       "      <td>5.000000</td>\n",
       "    </tr>\n",
       "  </tbody>\n",
       "</table>\n",
       "</div>"
      ],
      "text/plain": [
       "             Rating\n",
       "count  20000.000000\n",
       "mean       4.294250\n",
       "std        0.973455\n",
       "min        1.000000\n",
       "25%        4.000000\n",
       "50%        5.000000\n",
       "75%        5.000000\n",
       "max        5.000000"
      ]
     },
     "execution_count": 142,
     "metadata": {},
     "output_type": "execute_result"
    }
   ],
   "source": [
    "df1.describe()"
   ]
  },
  {
   "cell_type": "code",
   "execution_count": 143,
   "id": "c56aca97",
   "metadata": {},
   "outputs": [
    {
     "data": {
      "text/plain": [
       "(20000, 2)"
      ]
     },
     "execution_count": 143,
     "metadata": {},
     "output_type": "execute_result"
    }
   ],
   "source": [
    "df1.shape"
   ]
  },
  {
   "cell_type": "markdown",
   "id": "8b930284",
   "metadata": {},
   "source": [
    "#### Cleaning the data"
   ]
  },
  {
   "cell_type": "markdown",
   "id": "8d4d00ea",
   "metadata": {},
   "source": [
    "#### Contraction"
   ]
  },
  {
   "cell_type": "code",
   "execution_count": 116,
   "id": "c65bed09",
   "metadata": {},
   "outputs": [],
   "source": [
    "df['Review_Text']=df['Review_Text'].apply(lambda x: contractions.fix(x))"
   ]
  },
  {
   "cell_type": "code",
   "execution_count": 44,
   "id": "ef88bd5c",
   "metadata": {},
   "outputs": [],
   "source": [
    "df.head()"
   ]
  },
  {
   "cell_type": "markdown",
   "id": "c6791d2d",
   "metadata": {},
   "source": [
    "#### Converting letters to lowercase"
   ]
  },
  {
   "cell_type": "code",
   "execution_count": 173,
   "id": "efc9a545",
   "metadata": {},
   "outputs": [
    {
     "name": "stderr",
     "output_type": "stream",
     "text": [
      "C:\\Users\\mai_a\\anaconda3\\lib\\site-packages\\pandas\\core\\indexing.py:1676: SettingWithCopyWarning: \n",
      "A value is trying to be set on a copy of a slice from a DataFrame.\n",
      "Try using .loc[row_indexer,col_indexer] = value instead\n",
      "\n",
      "See the caveats in the documentation: https://pandas.pydata.org/pandas-docs/stable/user_guide/indexing.html#returning-a-view-versus-a-copy\n",
      "  self._setitem_single_column(ilocs[0], value, pi)\n"
     ]
    }
   ],
   "source": [
    "df1.loc[:,\"Review_Text\"] = df1.Review_Text.apply(lambda x : str.lower(x))"
   ]
  },
  {
   "cell_type": "code",
   "execution_count": 174,
   "id": "02bcab80",
   "metadata": {},
   "outputs": [
    {
     "data": {
      "text/html": [
       "<div>\n",
       "<style scoped>\n",
       "    .dataframe tbody tr th:only-of-type {\n",
       "        vertical-align: middle;\n",
       "    }\n",
       "\n",
       "    .dataframe tbody tr th {\n",
       "        vertical-align: top;\n",
       "    }\n",
       "\n",
       "    .dataframe thead th {\n",
       "        text-align: right;\n",
       "    }\n",
       "</style>\n",
       "<table border=\"1\" class=\"dataframe\">\n",
       "  <thead>\n",
       "    <tr style=\"text-align: right;\">\n",
       "      <th></th>\n",
       "      <th>Rating</th>\n",
       "      <th>Review_Text</th>\n",
       "    </tr>\n",
       "  </thead>\n",
       "  <tbody>\n",
       "    <tr>\n",
       "      <th>0</th>\n",
       "      <td>4</td>\n",
       "      <td>if you've ever been to disneyland anywhere you...</td>\n",
       "    </tr>\n",
       "    <tr>\n",
       "      <th>1</th>\n",
       "      <td>4</td>\n",
       "      <td>its been a while since d last time we visit hk...</td>\n",
       "    </tr>\n",
       "    <tr>\n",
       "      <th>2</th>\n",
       "      <td>4</td>\n",
       "      <td>thanks god it wasn   t too hot or too humid wh...</td>\n",
       "    </tr>\n",
       "    <tr>\n",
       "      <th>3</th>\n",
       "      <td>4</td>\n",
       "      <td>hk disneyland is a great compact park. unfortu...</td>\n",
       "    </tr>\n",
       "    <tr>\n",
       "      <th>4</th>\n",
       "      <td>4</td>\n",
       "      <td>the location is not in the city, took around 1...</td>\n",
       "    </tr>\n",
       "  </tbody>\n",
       "</table>\n",
       "</div>"
      ],
      "text/plain": [
       "   Rating                                        Review_Text\n",
       "0       4  if you've ever been to disneyland anywhere you...\n",
       "1       4  its been a while since d last time we visit hk...\n",
       "2       4  thanks god it wasn   t too hot or too humid wh...\n",
       "3       4  hk disneyland is a great compact park. unfortu...\n",
       "4       4  the location is not in the city, took around 1..."
      ]
     },
     "execution_count": 174,
     "metadata": {},
     "output_type": "execute_result"
    }
   ],
   "source": [
    "df1.head()"
   ]
  },
  {
   "cell_type": "markdown",
   "id": "6dc25ec0",
   "metadata": {},
   "source": [
    "#### Removing punctuations"
   ]
  },
  {
   "cell_type": "code",
   "execution_count": 175,
   "id": "00c27ff8",
   "metadata": {},
   "outputs": [
    {
     "name": "stderr",
     "output_type": "stream",
     "text": [
      "C:\\Users\\mai_a\\anaconda3\\lib\\site-packages\\pandas\\core\\indexing.py:1676: SettingWithCopyWarning: \n",
      "A value is trying to be set on a copy of a slice from a DataFrame.\n",
      "Try using .loc[row_indexer,col_indexer] = value instead\n",
      "\n",
      "See the caveats in the documentation: https://pandas.pydata.org/pandas-docs/stable/user_guide/indexing.html#returning-a-view-versus-a-copy\n",
      "  self._setitem_single_column(ilocs[0], value, pi)\n"
     ]
    }
   ],
   "source": [
    "df1.loc[:,\"Review_Text\"] = df1.Review_Text.apply(lambda x : \" \".join(re.findall('[\\w]+',x)))"
   ]
  },
  {
   "cell_type": "code",
   "execution_count": 176,
   "id": "74d5c793",
   "metadata": {},
   "outputs": [
    {
     "data": {
      "text/html": [
       "<div>\n",
       "<style scoped>\n",
       "    .dataframe tbody tr th:only-of-type {\n",
       "        vertical-align: middle;\n",
       "    }\n",
       "\n",
       "    .dataframe tbody tr th {\n",
       "        vertical-align: top;\n",
       "    }\n",
       "\n",
       "    .dataframe thead th {\n",
       "        text-align: right;\n",
       "    }\n",
       "</style>\n",
       "<table border=\"1\" class=\"dataframe\">\n",
       "  <thead>\n",
       "    <tr style=\"text-align: right;\">\n",
       "      <th></th>\n",
       "      <th>Rating</th>\n",
       "      <th>Review_Text</th>\n",
       "    </tr>\n",
       "  </thead>\n",
       "  <tbody>\n",
       "    <tr>\n",
       "      <th>0</th>\n",
       "      <td>4</td>\n",
       "      <td>if you ve ever been to disneyland anywhere you...</td>\n",
       "    </tr>\n",
       "    <tr>\n",
       "      <th>1</th>\n",
       "      <td>4</td>\n",
       "      <td>its been a while since d last time we visit hk...</td>\n",
       "    </tr>\n",
       "    <tr>\n",
       "      <th>2</th>\n",
       "      <td>4</td>\n",
       "      <td>thanks god it wasn t too hot or too humid when...</td>\n",
       "    </tr>\n",
       "    <tr>\n",
       "      <th>3</th>\n",
       "      <td>4</td>\n",
       "      <td>hk disneyland is a great compact park unfortun...</td>\n",
       "    </tr>\n",
       "    <tr>\n",
       "      <th>4</th>\n",
       "      <td>4</td>\n",
       "      <td>the location is not in the city took around 1 ...</td>\n",
       "    </tr>\n",
       "  </tbody>\n",
       "</table>\n",
       "</div>"
      ],
      "text/plain": [
       "   Rating                                        Review_Text\n",
       "0       4  if you ve ever been to disneyland anywhere you...\n",
       "1       4  its been a while since d last time we visit hk...\n",
       "2       4  thanks god it wasn t too hot or too humid when...\n",
       "3       4  hk disneyland is a great compact park unfortun...\n",
       "4       4  the location is not in the city took around 1 ..."
      ]
     },
     "execution_count": 176,
     "metadata": {},
     "output_type": "execute_result"
    }
   ],
   "source": [
    "df1.head()"
   ]
  },
  {
   "cell_type": "markdown",
   "id": "e90edc9a",
   "metadata": {},
   "source": [
    "#### Removing Stop Words"
   ]
  },
  {
   "cell_type": "code",
   "execution_count": 177,
   "id": "1c9c60b2",
   "metadata": {},
   "outputs": [
    {
     "name": "stderr",
     "output_type": "stream",
     "text": [
      "C:\\Users\\mai_a\\anaconda3\\lib\\site-packages\\pandas\\core\\indexing.py:1676: SettingWithCopyWarning: \n",
      "A value is trying to be set on a copy of a slice from a DataFrame.\n",
      "Try using .loc[row_indexer,col_indexer] = value instead\n",
      "\n",
      "See the caveats in the documentation: https://pandas.pydata.org/pandas-docs/stable/user_guide/indexing.html#returning-a-view-versus-a-copy\n",
      "  self._setitem_single_column(ilocs[0], value, pi)\n"
     ]
    }
   ],
   "source": [
    "stop_words = get_stop_words('en')\n",
    "\n",
    "def remove_stopWords(s):\n",
    "    '''For removing stop words\n",
    "    '''\n",
    "    s = ' '.join(word for word in s.split() if word not in stop_words)\n",
    "    return s\n",
    "\n",
    "df1.loc[:,\"Review_Text\"] = df1.Review_Text.apply(lambda x: remove_stopWords(x))"
   ]
  },
  {
   "cell_type": "code",
   "execution_count": 178,
   "id": "8c8e5d57",
   "metadata": {},
   "outputs": [
    {
     "data": {
      "text/html": [
       "<div>\n",
       "<style scoped>\n",
       "    .dataframe tbody tr th:only-of-type {\n",
       "        vertical-align: middle;\n",
       "    }\n",
       "\n",
       "    .dataframe tbody tr th {\n",
       "        vertical-align: top;\n",
       "    }\n",
       "\n",
       "    .dataframe thead th {\n",
       "        text-align: right;\n",
       "    }\n",
       "</style>\n",
       "<table border=\"1\" class=\"dataframe\">\n",
       "  <thead>\n",
       "    <tr style=\"text-align: right;\">\n",
       "      <th></th>\n",
       "      <th>Rating</th>\n",
       "      <th>Review_Text</th>\n",
       "    </tr>\n",
       "  </thead>\n",
       "  <tbody>\n",
       "    <tr>\n",
       "      <th>0</th>\n",
       "      <td>4</td>\n",
       "      <td>ve ever disneyland anywhere ll find disneyland...</td>\n",
       "    </tr>\n",
       "    <tr>\n",
       "      <th>1</th>\n",
       "      <td>4</td>\n",
       "      <td>since d last time visit hk disneyland yet time...</td>\n",
       "    </tr>\n",
       "    <tr>\n",
       "      <th>2</th>\n",
       "      <td>4</td>\n",
       "      <td>thanks god wasn t hot humid visiting park othe...</td>\n",
       "    </tr>\n",
       "    <tr>\n",
       "      <th>3</th>\n",
       "      <td>4</td>\n",
       "      <td>hk disneyland great compact park unfortunately...</td>\n",
       "    </tr>\n",
       "    <tr>\n",
       "      <th>4</th>\n",
       "      <td>4</td>\n",
       "      <td>location city took around 1 hour kowlon kids l...</td>\n",
       "    </tr>\n",
       "  </tbody>\n",
       "</table>\n",
       "</div>"
      ],
      "text/plain": [
       "   Rating                                        Review_Text\n",
       "0       4  ve ever disneyland anywhere ll find disneyland...\n",
       "1       4  since d last time visit hk disneyland yet time...\n",
       "2       4  thanks god wasn t hot humid visiting park othe...\n",
       "3       4  hk disneyland great compact park unfortunately...\n",
       "4       4  location city took around 1 hour kowlon kids l..."
      ]
     },
     "execution_count": 178,
     "metadata": {},
     "output_type": "execute_result"
    }
   ],
   "source": [
    "df1.head()"
   ]
  },
  {
   "cell_type": "markdown",
   "id": "1650c12b",
   "metadata": {},
   "source": [
    "#### Removing numbers"
   ]
  },
  {
   "cell_type": "code",
   "execution_count": 121,
   "id": "01e926cd",
   "metadata": {},
   "outputs": [],
   "source": [
    "df[\"Review_Text\"]=df.Review_Text.replace('\\w*\\d\\w*', '', regex=True)"
   ]
  },
  {
   "cell_type": "markdown",
   "id": "638064b7",
   "metadata": {},
   "source": [
    "#### Removing the top 10 frequent words"
   ]
  },
  {
   "cell_type": "code",
   "execution_count": 180,
   "id": "ef617c26",
   "metadata": {},
   "outputs": [
    {
     "data": {
      "text/plain": [
       "[('park', 17943),\n",
       " ('disneyland', 16489),\n",
       " ('disney', 14575),\n",
       " ('rides', 14451),\n",
       " ('day', 13209),\n",
       " ('time', 11675),\n",
       " ('t', 11228),\n",
       " ('s', 10913),\n",
       " ('get', 8820),\n",
       " ('can', 8362)]"
      ]
     },
     "execution_count": 180,
     "metadata": {},
     "output_type": "execute_result"
    }
   ],
   "source": [
    "cnt = Counter()\n",
    "for txt in df1[\"Review_Text\"].values:\n",
    "    for word in txt.split():\n",
    "        cnt[word]+=1\n",
    "cnt.most_common(10)"
   ]
  },
  {
   "cell_type": "code",
   "execution_count": 181,
   "id": "0ab7ac9a",
   "metadata": {},
   "outputs": [
    {
     "name": "stderr",
     "output_type": "stream",
     "text": [
      "<ipython-input-181-925b2fd21aa8>:5: SettingWithCopyWarning: \n",
      "A value is trying to be set on a copy of a slice from a DataFrame.\n",
      "Try using .loc[row_indexer,col_indexer] = value instead\n",
      "\n",
      "See the caveats in the documentation: https://pandas.pydata.org/pandas-docs/stable/user_guide/indexing.html#returning-a-view-versus-a-copy\n",
      "  df1[\"Review_Text1\"] = df1[\"Review_Text\"].apply(lambda txt: remover(txt))\n"
     ]
    },
    {
     "data": {
      "text/html": [
       "<div>\n",
       "<style scoped>\n",
       "    .dataframe tbody tr th:only-of-type {\n",
       "        vertical-align: middle;\n",
       "    }\n",
       "\n",
       "    .dataframe tbody tr th {\n",
       "        vertical-align: top;\n",
       "    }\n",
       "\n",
       "    .dataframe thead th {\n",
       "        text-align: right;\n",
       "    }\n",
       "</style>\n",
       "<table border=\"1\" class=\"dataframe\">\n",
       "  <thead>\n",
       "    <tr style=\"text-align: right;\">\n",
       "      <th></th>\n",
       "      <th>Rating</th>\n",
       "      <th>Review_Text</th>\n",
       "      <th>Review_Text1</th>\n",
       "    </tr>\n",
       "  </thead>\n",
       "  <tbody>\n",
       "    <tr>\n",
       "      <th>0</th>\n",
       "      <td>4</td>\n",
       "      <td>ve ever disneyland anywhere ll find disneyland...</td>\n",
       "      <td>ve ever anywhere ll find hong kong similar lay...</td>\n",
       "    </tr>\n",
       "    <tr>\n",
       "      <th>1</th>\n",
       "      <td>4</td>\n",
       "      <td>since d last time visit hk disneyland yet time...</td>\n",
       "      <td>since d last visit hk yet stay tomorrowland ak...</td>\n",
       "    </tr>\n",
       "    <tr>\n",
       "      <th>2</th>\n",
       "      <td>4</td>\n",
       "      <td>thanks god wasn t hot humid visiting park othe...</td>\n",
       "      <td>thanks god wasn hot humid visiting otherwise b...</td>\n",
       "    </tr>\n",
       "    <tr>\n",
       "      <th>3</th>\n",
       "      <td>4</td>\n",
       "      <td>hk disneyland great compact park unfortunately...</td>\n",
       "      <td>hk great compact unfortunately quite bit maint...</td>\n",
       "    </tr>\n",
       "    <tr>\n",
       "      <th>4</th>\n",
       "      <td>4</td>\n",
       "      <td>location city took around 1 hour kowlon kids l...</td>\n",
       "      <td>location city took around 1 hour kowlon kids l...</td>\n",
       "    </tr>\n",
       "  </tbody>\n",
       "</table>\n",
       "</div>"
      ],
      "text/plain": [
       "   Rating                                        Review_Text  \\\n",
       "0       4  ve ever disneyland anywhere ll find disneyland...   \n",
       "1       4  since d last time visit hk disneyland yet time...   \n",
       "2       4  thanks god wasn t hot humid visiting park othe...   \n",
       "3       4  hk disneyland great compact park unfortunately...   \n",
       "4       4  location city took around 1 hour kowlon kids l...   \n",
       "\n",
       "                                        Review_Text1  \n",
       "0  ve ever anywhere ll find hong kong similar lay...  \n",
       "1  since d last visit hk yet stay tomorrowland ak...  \n",
       "2  thanks god wasn hot humid visiting otherwise b...  \n",
       "3  hk great compact unfortunately quite bit maint...  \n",
       "4  location city took around 1 hour kowlon kids l...  "
      ]
     },
     "execution_count": 181,
     "metadata": {},
     "output_type": "execute_result"
    }
   ],
   "source": [
    "frequent_words = set([w for(w,wc) in cnt.most_common(10)])\n",
    "def remover(txt):\n",
    "    return \" \".join([word for word in str(txt).split() if word not in frequent_words])\n",
    "\n",
    "df1[\"Review_Text1\"] = df1[\"Review_Text\"].apply(lambda txt: remover(txt))\n",
    "df1.head()"
   ]
  },
  {
   "cell_type": "markdown",
   "id": "4f939f35",
   "metadata": {},
   "source": [
    "#### Removing rare words"
   ]
  },
  {
   "cell_type": "code",
   "execution_count": 187,
   "id": "e8f98ec6",
   "metadata": {},
   "outputs": [],
   "source": [
    "num_rare_words = 10\n",
    "rare_words = set([w for (w, wc) in cnt.most_common()[:-num_rare_words-1:-1]])"
   ]
  },
  {
   "cell_type": "code",
   "execution_count": 191,
   "id": "ee5ca5aa",
   "metadata": {},
   "outputs": [],
   "source": [
    "def remove_rare(text):\n",
    "    return \" \".join([word for word in str(text).split() if word not in rare_words])"
   ]
  },
  {
   "cell_type": "code",
   "execution_count": 193,
   "id": "b64ac0ca",
   "metadata": {},
   "outputs": [
    {
     "name": "stderr",
     "output_type": "stream",
     "text": [
      "<ipython-input-193-acb9c29fe5ca>:1: SettingWithCopyWarning: \n",
      "A value is trying to be set on a copy of a slice from a DataFrame.\n",
      "Try using .loc[row_indexer,col_indexer] = value instead\n",
      "\n",
      "See the caveats in the documentation: https://pandas.pydata.org/pandas-docs/stable/user_guide/indexing.html#returning-a-view-versus-a-copy\n",
      "  df1[\"Review_Text2\"] = df1[\"Review_Text1\"].apply(lambda text: remove_rare(text))\n"
     ]
    },
    {
     "data": {
      "text/html": [
       "<div>\n",
       "<style scoped>\n",
       "    .dataframe tbody tr th:only-of-type {\n",
       "        vertical-align: middle;\n",
       "    }\n",
       "\n",
       "    .dataframe tbody tr th {\n",
       "        vertical-align: top;\n",
       "    }\n",
       "\n",
       "    .dataframe thead th {\n",
       "        text-align: right;\n",
       "    }\n",
       "</style>\n",
       "<table border=\"1\" class=\"dataframe\">\n",
       "  <thead>\n",
       "    <tr style=\"text-align: right;\">\n",
       "      <th></th>\n",
       "      <th>Rating</th>\n",
       "      <th>Review_Text</th>\n",
       "      <th>Review_Text1</th>\n",
       "      <th>Review_Text2</th>\n",
       "    </tr>\n",
       "  </thead>\n",
       "  <tbody>\n",
       "    <tr>\n",
       "      <th>0</th>\n",
       "      <td>4</td>\n",
       "      <td>ve ever disneyland anywhere ll find disneyland...</td>\n",
       "      <td>ve ever anywhere ll find hong kong similar lay...</td>\n",
       "      <td>ve ever anywhere ll find hong kong similar lay...</td>\n",
       "    </tr>\n",
       "    <tr>\n",
       "      <th>1</th>\n",
       "      <td>4</td>\n",
       "      <td>since d last time visit hk disneyland yet time...</td>\n",
       "      <td>since d last visit hk yet stay tomorrowland ak...</td>\n",
       "      <td>since d last visit hk yet stay tomorrowland ak...</td>\n",
       "    </tr>\n",
       "    <tr>\n",
       "      <th>2</th>\n",
       "      <td>4</td>\n",
       "      <td>thanks god wasn t hot humid visiting park othe...</td>\n",
       "      <td>thanks god wasn hot humid visiting otherwise b...</td>\n",
       "      <td>thanks god wasn hot humid visiting otherwise b...</td>\n",
       "    </tr>\n",
       "    <tr>\n",
       "      <th>3</th>\n",
       "      <td>4</td>\n",
       "      <td>hk disneyland great compact park unfortunately...</td>\n",
       "      <td>hk great compact unfortunately quite bit maint...</td>\n",
       "      <td>hk great compact unfortunately quite bit maint...</td>\n",
       "    </tr>\n",
       "    <tr>\n",
       "      <th>4</th>\n",
       "      <td>4</td>\n",
       "      <td>location city took around 1 hour kowlon kids l...</td>\n",
       "      <td>location city took around 1 hour kowlon kids l...</td>\n",
       "      <td>location city took around 1 hour kowlon kids l...</td>\n",
       "    </tr>\n",
       "  </tbody>\n",
       "</table>\n",
       "</div>"
      ],
      "text/plain": [
       "   Rating                                        Review_Text  \\\n",
       "0       4  ve ever disneyland anywhere ll find disneyland...   \n",
       "1       4  since d last time visit hk disneyland yet time...   \n",
       "2       4  thanks god wasn t hot humid visiting park othe...   \n",
       "3       4  hk disneyland great compact park unfortunately...   \n",
       "4       4  location city took around 1 hour kowlon kids l...   \n",
       "\n",
       "                                        Review_Text1  \\\n",
       "0  ve ever anywhere ll find hong kong similar lay...   \n",
       "1  since d last visit hk yet stay tomorrowland ak...   \n",
       "2  thanks god wasn hot humid visiting otherwise b...   \n",
       "3  hk great compact unfortunately quite bit maint...   \n",
       "4  location city took around 1 hour kowlon kids l...   \n",
       "\n",
       "                                        Review_Text2  \n",
       "0  ve ever anywhere ll find hong kong similar lay...  \n",
       "1  since d last visit hk yet stay tomorrowland ak...  \n",
       "2  thanks god wasn hot humid visiting otherwise b...  \n",
       "3  hk great compact unfortunately quite bit maint...  \n",
       "4  location city took around 1 hour kowlon kids l...  "
      ]
     },
     "execution_count": 193,
     "metadata": {},
     "output_type": "execute_result"
    }
   ],
   "source": [
    "df1[\"Review_Text2\"] = df1[\"Review_Text1\"].apply(lambda text: remove_rare(text))\n",
    "df1.head()"
   ]
  },
  {
   "cell_type": "markdown",
   "id": "301e9d9b",
   "metadata": {},
   "source": [
    "#### Stemming"
   ]
  },
  {
   "cell_type": "code",
   "execution_count": 198,
   "id": "a26eb6a3",
   "metadata": {},
   "outputs": [],
   "source": [
    "stemmer = PorterStemmer()\n",
    "def stem_words(text):\n",
    "    return \" \".join([stemmer.stem(word) for word in text.split()])"
   ]
  },
  {
   "cell_type": "code",
   "execution_count": 200,
   "id": "a58fc773",
   "metadata": {},
   "outputs": [
    {
     "name": "stderr",
     "output_type": "stream",
     "text": [
      "<ipython-input-200-0d5da63dde3a>:1: SettingWithCopyWarning: \n",
      "A value is trying to be set on a copy of a slice from a DataFrame.\n",
      "Try using .loc[row_indexer,col_indexer] = value instead\n",
      "\n",
      "See the caveats in the documentation: https://pandas.pydata.org/pandas-docs/stable/user_guide/indexing.html#returning-a-view-versus-a-copy\n",
      "  df1[\"text_stemmed\"] = df1[\"Review_Text2\"].apply(lambda text: stem_words(text))\n"
     ]
    },
    {
     "data": {
      "text/html": [
       "<div>\n",
       "<style scoped>\n",
       "    .dataframe tbody tr th:only-of-type {\n",
       "        vertical-align: middle;\n",
       "    }\n",
       "\n",
       "    .dataframe tbody tr th {\n",
       "        vertical-align: top;\n",
       "    }\n",
       "\n",
       "    .dataframe thead th {\n",
       "        text-align: right;\n",
       "    }\n",
       "</style>\n",
       "<table border=\"1\" class=\"dataframe\">\n",
       "  <thead>\n",
       "    <tr style=\"text-align: right;\">\n",
       "      <th></th>\n",
       "      <th>Rating</th>\n",
       "      <th>Review_Text</th>\n",
       "      <th>Review_Text1</th>\n",
       "      <th>Review_Text2</th>\n",
       "      <th>text_stemmed</th>\n",
       "    </tr>\n",
       "  </thead>\n",
       "  <tbody>\n",
       "    <tr>\n",
       "      <th>0</th>\n",
       "      <td>4</td>\n",
       "      <td>ve ever disneyland anywhere ll find disneyland...</td>\n",
       "      <td>ve ever anywhere ll find hong kong similar lay...</td>\n",
       "      <td>ve ever anywhere ll find hong kong similar lay...</td>\n",
       "      <td>ve ever anywher ll find hong kong similar layo...</td>\n",
       "    </tr>\n",
       "    <tr>\n",
       "      <th>1</th>\n",
       "      <td>4</td>\n",
       "      <td>since d last time visit hk disneyland yet time...</td>\n",
       "      <td>since d last visit hk yet stay tomorrowland ak...</td>\n",
       "      <td>since d last visit hk yet stay tomorrowland ak...</td>\n",
       "      <td>sinc d last visit hk yet stay tomorrowland aka...</td>\n",
       "    </tr>\n",
       "    <tr>\n",
       "      <th>2</th>\n",
       "      <td>4</td>\n",
       "      <td>thanks god wasn t hot humid visiting park othe...</td>\n",
       "      <td>thanks god wasn hot humid visiting otherwise b...</td>\n",
       "      <td>thanks god wasn hot humid visiting otherwise b...</td>\n",
       "      <td>thank god wasn hot humid visit otherwis big is...</td>\n",
       "    </tr>\n",
       "    <tr>\n",
       "      <th>3</th>\n",
       "      <td>4</td>\n",
       "      <td>hk disneyland great compact park unfortunately...</td>\n",
       "      <td>hk great compact unfortunately quite bit maint...</td>\n",
       "      <td>hk great compact unfortunately quite bit maint...</td>\n",
       "      <td>hk great compact unfortun quit bit mainten wor...</td>\n",
       "    </tr>\n",
       "    <tr>\n",
       "      <th>4</th>\n",
       "      <td>4</td>\n",
       "      <td>location city took around 1 hour kowlon kids l...</td>\n",
       "      <td>location city took around 1 hour kowlon kids l...</td>\n",
       "      <td>location city took around 1 hour kowlon kids l...</td>\n",
       "      <td>locat citi took around 1 hour kowlon kid like ...</td>\n",
       "    </tr>\n",
       "  </tbody>\n",
       "</table>\n",
       "</div>"
      ],
      "text/plain": [
       "   Rating                                        Review_Text  \\\n",
       "0       4  ve ever disneyland anywhere ll find disneyland...   \n",
       "1       4  since d last time visit hk disneyland yet time...   \n",
       "2       4  thanks god wasn t hot humid visiting park othe...   \n",
       "3       4  hk disneyland great compact park unfortunately...   \n",
       "4       4  location city took around 1 hour kowlon kids l...   \n",
       "\n",
       "                                        Review_Text1  \\\n",
       "0  ve ever anywhere ll find hong kong similar lay...   \n",
       "1  since d last visit hk yet stay tomorrowland ak...   \n",
       "2  thanks god wasn hot humid visiting otherwise b...   \n",
       "3  hk great compact unfortunately quite bit maint...   \n",
       "4  location city took around 1 hour kowlon kids l...   \n",
       "\n",
       "                                        Review_Text2  \\\n",
       "0  ve ever anywhere ll find hong kong similar lay...   \n",
       "1  since d last visit hk yet stay tomorrowland ak...   \n",
       "2  thanks god wasn hot humid visiting otherwise b...   \n",
       "3  hk great compact unfortunately quite bit maint...   \n",
       "4  location city took around 1 hour kowlon kids l...   \n",
       "\n",
       "                                        text_stemmed  \n",
       "0  ve ever anywher ll find hong kong similar layo...  \n",
       "1  sinc d last visit hk yet stay tomorrowland aka...  \n",
       "2  thank god wasn hot humid visit otherwis big is...  \n",
       "3  hk great compact unfortun quit bit mainten wor...  \n",
       "4  locat citi took around 1 hour kowlon kid like ...  "
      ]
     },
     "execution_count": 200,
     "metadata": {},
     "output_type": "execute_result"
    }
   ],
   "source": [
    "df1[\"text_stemmed\"] = df1[\"Review_Text2\"].apply(lambda text: stem_words(text))\n",
    "df1.head()"
   ]
  },
  {
   "cell_type": "markdown",
   "id": "795f80a8",
   "metadata": {},
   "source": [
    "#### Lemmatization"
   ]
  },
  {
   "cell_type": "code",
   "execution_count": 206,
   "id": "79abf42a",
   "metadata": {},
   "outputs": [],
   "source": [
    "lemmatizer = WordNetLemmatizer()\n",
    "wordnet_map = {\"N\":wordnet.NOUN, \"V\":wordnet.VERB, \"J\":wordnet.ADJ, \"R\":wordnet.ADV}\n",
    "def lemmatize_words(text):\n",
    "    pos_tagged_text = nltk.pos_tag(text.split())\n",
    "    return \" \".join([lemmatizer.lemmatize(word, wordnet_map.get(pos[0], wordnet.NOUN)) for word, pos in pos_tagged_text])"
   ]
  },
  {
   "cell_type": "code",
   "execution_count": 207,
   "id": "08fc0f46",
   "metadata": {},
   "outputs": [
    {
     "name": "stderr",
     "output_type": "stream",
     "text": [
      "<ipython-input-207-e1023654378b>:2: SettingWithCopyWarning: \n",
      "A value is trying to be set on a copy of a slice from a DataFrame.\n",
      "Try using .loc[row_indexer,col_indexer] = value instead\n",
      "\n",
      "See the caveats in the documentation: https://pandas.pydata.org/pandas-docs/stable/user_guide/indexing.html#returning-a-view-versus-a-copy\n",
      "  df1[\"text_lemmatized\"] = df1[\"text_stemmed\"].apply(lambda text: lemmatize_words(text))\n"
     ]
    },
    {
     "data": {
      "text/html": [
       "<div>\n",
       "<style scoped>\n",
       "    .dataframe tbody tr th:only-of-type {\n",
       "        vertical-align: middle;\n",
       "    }\n",
       "\n",
       "    .dataframe tbody tr th {\n",
       "        vertical-align: top;\n",
       "    }\n",
       "\n",
       "    .dataframe thead th {\n",
       "        text-align: right;\n",
       "    }\n",
       "</style>\n",
       "<table border=\"1\" class=\"dataframe\">\n",
       "  <thead>\n",
       "    <tr style=\"text-align: right;\">\n",
       "      <th></th>\n",
       "      <th>Rating</th>\n",
       "      <th>Review_Text</th>\n",
       "      <th>Review_Text1</th>\n",
       "      <th>Review_Text2</th>\n",
       "      <th>text_stemmed</th>\n",
       "      <th>text_lemmatized</th>\n",
       "    </tr>\n",
       "  </thead>\n",
       "  <tbody>\n",
       "    <tr>\n",
       "      <th>0</th>\n",
       "      <td>4</td>\n",
       "      <td>ve ever disneyland anywhere ll find disneyland...</td>\n",
       "      <td>ve ever anywhere ll find hong kong similar lay...</td>\n",
       "      <td>ve ever anywhere ll find hong kong similar lay...</td>\n",
       "      <td>ve ever anywher ll find hong kong similar layo...</td>\n",
       "      <td>ve ever anywher ll find hong kong similar layo...</td>\n",
       "    </tr>\n",
       "    <tr>\n",
       "      <th>1</th>\n",
       "      <td>4</td>\n",
       "      <td>since d last time visit hk disneyland yet time...</td>\n",
       "      <td>since d last visit hk yet stay tomorrowland ak...</td>\n",
       "      <td>since d last visit hk yet stay tomorrowland ak...</td>\n",
       "      <td>sinc d last visit hk yet stay tomorrowland aka...</td>\n",
       "      <td>sinc d last visit hk yet stay tomorrowland aka...</td>\n",
       "    </tr>\n",
       "    <tr>\n",
       "      <th>2</th>\n",
       "      <td>4</td>\n",
       "      <td>thanks god wasn t hot humid visiting park othe...</td>\n",
       "      <td>thanks god wasn hot humid visiting otherwise b...</td>\n",
       "      <td>thanks god wasn hot humid visiting otherwise b...</td>\n",
       "      <td>thank god wasn hot humid visit otherwis big is...</td>\n",
       "      <td>thank god wasn hot humid visit otherwis big is...</td>\n",
       "    </tr>\n",
       "    <tr>\n",
       "      <th>3</th>\n",
       "      <td>4</td>\n",
       "      <td>hk disneyland great compact park unfortunately...</td>\n",
       "      <td>hk great compact unfortunately quite bit maint...</td>\n",
       "      <td>hk great compact unfortunately quite bit maint...</td>\n",
       "      <td>hk great compact unfortun quit bit mainten wor...</td>\n",
       "      <td>hk great compact unfortun quit bit mainten wor...</td>\n",
       "    </tr>\n",
       "    <tr>\n",
       "      <th>4</th>\n",
       "      <td>4</td>\n",
       "      <td>location city took around 1 hour kowlon kids l...</td>\n",
       "      <td>location city took around 1 hour kowlon kids l...</td>\n",
       "      <td>location city took around 1 hour kowlon kids l...</td>\n",
       "      <td>locat citi took around 1 hour kowlon kid like ...</td>\n",
       "      <td>locat citi take around 1 hour kowlon kid like ...</td>\n",
       "    </tr>\n",
       "  </tbody>\n",
       "</table>\n",
       "</div>"
      ],
      "text/plain": [
       "   Rating                                        Review_Text  \\\n",
       "0       4  ve ever disneyland anywhere ll find disneyland...   \n",
       "1       4  since d last time visit hk disneyland yet time...   \n",
       "2       4  thanks god wasn t hot humid visiting park othe...   \n",
       "3       4  hk disneyland great compact park unfortunately...   \n",
       "4       4  location city took around 1 hour kowlon kids l...   \n",
       "\n",
       "                                        Review_Text1  \\\n",
       "0  ve ever anywhere ll find hong kong similar lay...   \n",
       "1  since d last visit hk yet stay tomorrowland ak...   \n",
       "2  thanks god wasn hot humid visiting otherwise b...   \n",
       "3  hk great compact unfortunately quite bit maint...   \n",
       "4  location city took around 1 hour kowlon kids l...   \n",
       "\n",
       "                                        Review_Text2  \\\n",
       "0  ve ever anywhere ll find hong kong similar lay...   \n",
       "1  since d last visit hk yet stay tomorrowland ak...   \n",
       "2  thanks god wasn hot humid visiting otherwise b...   \n",
       "3  hk great compact unfortunately quite bit maint...   \n",
       "4  location city took around 1 hour kowlon kids l...   \n",
       "\n",
       "                                        text_stemmed  \\\n",
       "0  ve ever anywher ll find hong kong similar layo...   \n",
       "1  sinc d last visit hk yet stay tomorrowland aka...   \n",
       "2  thank god wasn hot humid visit otherwis big is...   \n",
       "3  hk great compact unfortun quit bit mainten wor...   \n",
       "4  locat citi took around 1 hour kowlon kid like ...   \n",
       "\n",
       "                                     text_lemmatized  \n",
       "0  ve ever anywher ll find hong kong similar layo...  \n",
       "1  sinc d last visit hk yet stay tomorrowland aka...  \n",
       "2  thank god wasn hot humid visit otherwis big is...  \n",
       "3  hk great compact unfortun quit bit mainten wor...  \n",
       "4  locat citi take around 1 hour kowlon kid like ...  "
      ]
     },
     "execution_count": 207,
     "metadata": {},
     "output_type": "execute_result"
    }
   ],
   "source": [
    "import nltk\n",
    "df1[\"text_lemmatized\"] = df1[\"text_stemmed\"].apply(lambda text: lemmatize_words(text))\n",
    "df1.head()"
   ]
  },
  {
   "cell_type": "markdown",
   "id": "c635a86f",
   "metadata": {},
   "source": [
    "#### Spelling Correction"
   ]
  },
  {
   "cell_type": "code",
   "execution_count": 221,
   "id": "0bb0a884",
   "metadata": {},
   "outputs": [],
   "source": [
    "spell = SpellChecker()\n",
    "def correct_spellings(text):\n",
    "    corrected_text = []\n",
    "    misspelled_words = spell.unknown(text.split())\n",
    "    for word in text.split():\n",
    "        if word in misspelled_words:\n",
    "            corrected_text.append(spell.correction(word))\n",
    "        else:\n",
    "            corrected_text.append(word)\n",
    "    return \" \".join(corrected_text)"
   ]
  },
  {
   "cell_type": "code",
   "execution_count": 222,
   "id": "5e1041af",
   "metadata": {},
   "outputs": [
    {
     "name": "stderr",
     "output_type": "stream",
     "text": [
      "<ipython-input-222-087d22a08bf9>:1: SettingWithCopyWarning: \n",
      "A value is trying to be set on a copy of a slice from a DataFrame.\n",
      "Try using .loc[row_indexer,col_indexer] = value instead\n",
      "\n",
      "See the caveats in the documentation: https://pandas.pydata.org/pandas-docs/stable/user_guide/indexing.html#returning-a-view-versus-a-copy\n",
      "  df1[\"text_corrected\"] = df1[\"text_lemmatized\"].apply(lambda text: correct_spellings(text))\n"
     ]
    }
   ],
   "source": [
    "df1[\"text_corrected\"] = df1[\"text_lemmatized\"].apply(lambda text: correct_spellings(text))"
   ]
  },
  {
   "cell_type": "code",
   "execution_count": 223,
   "id": "f1ba4d53",
   "metadata": {},
   "outputs": [
    {
     "data": {
      "text/html": [
       "<div>\n",
       "<style scoped>\n",
       "    .dataframe tbody tr th:only-of-type {\n",
       "        vertical-align: middle;\n",
       "    }\n",
       "\n",
       "    .dataframe tbody tr th {\n",
       "        vertical-align: top;\n",
       "    }\n",
       "\n",
       "    .dataframe thead th {\n",
       "        text-align: right;\n",
       "    }\n",
       "</style>\n",
       "<table border=\"1\" class=\"dataframe\">\n",
       "  <thead>\n",
       "    <tr style=\"text-align: right;\">\n",
       "      <th></th>\n",
       "      <th>Rating</th>\n",
       "      <th>Review_Text</th>\n",
       "      <th>Review_Text1</th>\n",
       "      <th>Review_Text2</th>\n",
       "      <th>text_stemmed</th>\n",
       "      <th>text_lemmatized</th>\n",
       "      <th>text_corrected</th>\n",
       "    </tr>\n",
       "  </thead>\n",
       "  <tbody>\n",
       "    <tr>\n",
       "      <th>0</th>\n",
       "      <td>4</td>\n",
       "      <td>ve ever disneyland anywhere ll find disneyland...</td>\n",
       "      <td>ve ever anywhere ll find hong kong similar lay...</td>\n",
       "      <td>ve ever anywhere ll find hong kong similar lay...</td>\n",
       "      <td>ve ever anywher ll find hong kong similar layo...</td>\n",
       "      <td>ve ever anywher ll find hong kong similar layo...</td>\n",
       "      <td>ve ever anywher all find hong kong similar lay...</td>\n",
       "    </tr>\n",
       "    <tr>\n",
       "      <th>1</th>\n",
       "      <td>4</td>\n",
       "      <td>since d last time visit hk disneyland yet time...</td>\n",
       "      <td>since d last visit hk yet stay tomorrowland ak...</td>\n",
       "      <td>since d last visit hk yet stay tomorrowland ak...</td>\n",
       "      <td>sinc d last visit hk yet stay tomorrowland aka...</td>\n",
       "      <td>sinc d last visit hk yet stay tomorrowland aka...</td>\n",
       "      <td>since i last visit he yet stay tomorrowland ak...</td>\n",
       "    </tr>\n",
       "    <tr>\n",
       "      <th>2</th>\n",
       "      <td>4</td>\n",
       "      <td>thanks god wasn t hot humid visiting park othe...</td>\n",
       "      <td>thanks god wasn hot humid visiting otherwise b...</td>\n",
       "      <td>thanks god wasn hot humid visiting otherwise b...</td>\n",
       "      <td>thank god wasn hot humid visit otherwis big is...</td>\n",
       "      <td>thank god wasn hot humid visit otherwis big is...</td>\n",
       "      <td>thank god wasn hot humid visit otherwise big i...</td>\n",
       "    </tr>\n",
       "    <tr>\n",
       "      <th>3</th>\n",
       "      <td>4</td>\n",
       "      <td>hk disneyland great compact park unfortunately...</td>\n",
       "      <td>hk great compact unfortunately quite bit maint...</td>\n",
       "      <td>hk great compact unfortunately quite bit maint...</td>\n",
       "      <td>hk great compact unfortun quit bit mainten wor...</td>\n",
       "      <td>hk great compact unfortun quit bit mainten wor...</td>\n",
       "      <td>he great compact unfortune quit bit maintain w...</td>\n",
       "    </tr>\n",
       "    <tr>\n",
       "      <th>4</th>\n",
       "      <td>4</td>\n",
       "      <td>location city took around 1 hour kowlon kids l...</td>\n",
       "      <td>location city took around 1 hour kowlon kids l...</td>\n",
       "      <td>location city took around 1 hour kowlon kids l...</td>\n",
       "      <td>locat citi took around 1 hour kowlon kid like ...</td>\n",
       "      <td>locat citi take around 1 hour kowlon kid like ...</td>\n",
       "      <td>local city take around 1 hour kowloon kid like...</td>\n",
       "    </tr>\n",
       "  </tbody>\n",
       "</table>\n",
       "</div>"
      ],
      "text/plain": [
       "   Rating                                        Review_Text  \\\n",
       "0       4  ve ever disneyland anywhere ll find disneyland...   \n",
       "1       4  since d last time visit hk disneyland yet time...   \n",
       "2       4  thanks god wasn t hot humid visiting park othe...   \n",
       "3       4  hk disneyland great compact park unfortunately...   \n",
       "4       4  location city took around 1 hour kowlon kids l...   \n",
       "\n",
       "                                        Review_Text1  \\\n",
       "0  ve ever anywhere ll find hong kong similar lay...   \n",
       "1  since d last visit hk yet stay tomorrowland ak...   \n",
       "2  thanks god wasn hot humid visiting otherwise b...   \n",
       "3  hk great compact unfortunately quite bit maint...   \n",
       "4  location city took around 1 hour kowlon kids l...   \n",
       "\n",
       "                                        Review_Text2  \\\n",
       "0  ve ever anywhere ll find hong kong similar lay...   \n",
       "1  since d last visit hk yet stay tomorrowland ak...   \n",
       "2  thanks god wasn hot humid visiting otherwise b...   \n",
       "3  hk great compact unfortunately quite bit maint...   \n",
       "4  location city took around 1 hour kowlon kids l...   \n",
       "\n",
       "                                        text_stemmed  \\\n",
       "0  ve ever anywher ll find hong kong similar layo...   \n",
       "1  sinc d last visit hk yet stay tomorrowland aka...   \n",
       "2  thank god wasn hot humid visit otherwis big is...   \n",
       "3  hk great compact unfortun quit bit mainten wor...   \n",
       "4  locat citi took around 1 hour kowlon kid like ...   \n",
       "\n",
       "                                     text_lemmatized  \\\n",
       "0  ve ever anywher ll find hong kong similar layo...   \n",
       "1  sinc d last visit hk yet stay tomorrowland aka...   \n",
       "2  thank god wasn hot humid visit otherwis big is...   \n",
       "3  hk great compact unfortun quit bit mainten wor...   \n",
       "4  locat citi take around 1 hour kowlon kid like ...   \n",
       "\n",
       "                                      text_corrected  \n",
       "0  ve ever anywher all find hong kong similar lay...  \n",
       "1  since i last visit he yet stay tomorrowland ak...  \n",
       "2  thank god wasn hot humid visit otherwise big i...  \n",
       "3  he great compact unfortune quit bit maintain w...  \n",
       "4  local city take around 1 hour kowloon kid like...  "
      ]
     },
     "execution_count": 223,
     "metadata": {},
     "output_type": "execute_result"
    }
   ],
   "source": [
    "df1.head()"
   ]
  },
  {
   "cell_type": "markdown",
   "id": "27f91ebc",
   "metadata": {},
   "source": [
    "#### Remove words with three letters or less"
   ]
  },
  {
   "cell_type": "code",
   "execution_count": 225,
   "id": "b3b3144c",
   "metadata": {},
   "outputs": [
    {
     "name": "stderr",
     "output_type": "stream",
     "text": [
      "<ipython-input-225-62e353d90571>:2: FutureWarning: The default value of regex will change from True to False in a future version.\n",
      "  df1[\"Without3letters\"]=df1.text_corrected.str.replace(r'\\b(\\w{1,3})\\b', '')\n",
      "<ipython-input-225-62e353d90571>:2: SettingWithCopyWarning: \n",
      "A value is trying to be set on a copy of a slice from a DataFrame.\n",
      "Try using .loc[row_indexer,col_indexer] = value instead\n",
      "\n",
      "See the caveats in the documentation: https://pandas.pydata.org/pandas-docs/stable/user_guide/indexing.html#returning-a-view-versus-a-copy\n",
      "  df1[\"Without3letters\"]=df1.text_corrected.str.replace(r'\\b(\\w{1,3})\\b', '')\n"
     ]
    }
   ],
   "source": [
    "df1[\"Without3letters\"]=df1.text_corrected.str.replace(r'\\b(\\w{1,3})\\b', '')"
   ]
  },
  {
   "cell_type": "code",
   "execution_count": 226,
   "id": "f9bae117",
   "metadata": {},
   "outputs": [
    {
     "data": {
      "text/html": [
       "<div>\n",
       "<style scoped>\n",
       "    .dataframe tbody tr th:only-of-type {\n",
       "        vertical-align: middle;\n",
       "    }\n",
       "\n",
       "    .dataframe tbody tr th {\n",
       "        vertical-align: top;\n",
       "    }\n",
       "\n",
       "    .dataframe thead th {\n",
       "        text-align: right;\n",
       "    }\n",
       "</style>\n",
       "<table border=\"1\" class=\"dataframe\">\n",
       "  <thead>\n",
       "    <tr style=\"text-align: right;\">\n",
       "      <th></th>\n",
       "      <th>Rating</th>\n",
       "      <th>Review_Text</th>\n",
       "      <th>Review_Text1</th>\n",
       "      <th>Review_Text2</th>\n",
       "      <th>text_stemmed</th>\n",
       "      <th>text_lemmatized</th>\n",
       "      <th>text_corrected</th>\n",
       "      <th>Without3letters</th>\n",
       "    </tr>\n",
       "  </thead>\n",
       "  <tbody>\n",
       "    <tr>\n",
       "      <th>0</th>\n",
       "      <td>4</td>\n",
       "      <td>ve ever disneyland anywhere ll find disneyland...</td>\n",
       "      <td>ve ever anywhere ll find hong kong similar lay...</td>\n",
       "      <td>ve ever anywhere ll find hong kong similar lay...</td>\n",
       "      <td>ve ever anywher ll find hong kong similar layo...</td>\n",
       "      <td>ve ever anywher ll find hong kong similar layo...</td>\n",
       "      <td>ve ever anywher all find hong kong similar lay...</td>\n",
       "      <td>ever anywher  find hong kong similar layout w...</td>\n",
       "    </tr>\n",
       "    <tr>\n",
       "      <th>1</th>\n",
       "      <td>4</td>\n",
       "      <td>since d last time visit hk disneyland yet time...</td>\n",
       "      <td>since d last visit hk yet stay tomorrowland ak...</td>\n",
       "      <td>since d last visit hk yet stay tomorrowland ak...</td>\n",
       "      <td>sinc d last visit hk yet stay tomorrowland aka...</td>\n",
       "      <td>sinc d last visit hk yet stay tomorrowland aka...</td>\n",
       "      <td>since i last visit he yet stay tomorrowland ak...</td>\n",
       "      <td>since  last visit   stay tomorrowland  marvel ...</td>\n",
       "    </tr>\n",
       "    <tr>\n",
       "      <th>2</th>\n",
       "      <td>4</td>\n",
       "      <td>thanks god wasn t hot humid visiting park othe...</td>\n",
       "      <td>thanks god wasn hot humid visiting otherwise b...</td>\n",
       "      <td>thanks god wasn hot humid visiting otherwise b...</td>\n",
       "      <td>thank god wasn hot humid visit otherwis big is...</td>\n",
       "      <td>thank god wasn hot humid visit otherwis big is...</td>\n",
       "      <td>thank god wasn hot humid visit otherwise big i...</td>\n",
       "      <td>thank  wasn  humid visit otherwise  issue  sha...</td>\n",
       "    </tr>\n",
       "    <tr>\n",
       "      <th>3</th>\n",
       "      <td>4</td>\n",
       "      <td>hk disneyland great compact park unfortunately...</td>\n",
       "      <td>hk great compact unfortunately quite bit maint...</td>\n",
       "      <td>hk great compact unfortunately quite bit maint...</td>\n",
       "      <td>hk great compact unfortun quit bit mainten wor...</td>\n",
       "      <td>hk great compact unfortun quit bit mainten wor...</td>\n",
       "      <td>he great compact unfortune quit bit maintain w...</td>\n",
       "      <td>great compact unfortune quit  maintain work  ...</td>\n",
       "    </tr>\n",
       "    <tr>\n",
       "      <th>4</th>\n",
       "      <td>4</td>\n",
       "      <td>location city took around 1 hour kowlon kids l...</td>\n",
       "      <td>location city took around 1 hour kowlon kids l...</td>\n",
       "      <td>location city took around 1 hour kowlon kids l...</td>\n",
       "      <td>locat citi took around 1 hour kowlon kid like ...</td>\n",
       "      <td>locat citi take around 1 hour kowlon kid like ...</td>\n",
       "      <td>local city take around 1 hour kowloon kid like...</td>\n",
       "      <td>local city take around  hour kowloon  like muc...</td>\n",
       "    </tr>\n",
       "  </tbody>\n",
       "</table>\n",
       "</div>"
      ],
      "text/plain": [
       "   Rating                                        Review_Text  \\\n",
       "0       4  ve ever disneyland anywhere ll find disneyland...   \n",
       "1       4  since d last time visit hk disneyland yet time...   \n",
       "2       4  thanks god wasn t hot humid visiting park othe...   \n",
       "3       4  hk disneyland great compact park unfortunately...   \n",
       "4       4  location city took around 1 hour kowlon kids l...   \n",
       "\n",
       "                                        Review_Text1  \\\n",
       "0  ve ever anywhere ll find hong kong similar lay...   \n",
       "1  since d last visit hk yet stay tomorrowland ak...   \n",
       "2  thanks god wasn hot humid visiting otherwise b...   \n",
       "3  hk great compact unfortunately quite bit maint...   \n",
       "4  location city took around 1 hour kowlon kids l...   \n",
       "\n",
       "                                        Review_Text2  \\\n",
       "0  ve ever anywhere ll find hong kong similar lay...   \n",
       "1  since d last visit hk yet stay tomorrowland ak...   \n",
       "2  thanks god wasn hot humid visiting otherwise b...   \n",
       "3  hk great compact unfortunately quite bit maint...   \n",
       "4  location city took around 1 hour kowlon kids l...   \n",
       "\n",
       "                                        text_stemmed  \\\n",
       "0  ve ever anywher ll find hong kong similar layo...   \n",
       "1  sinc d last visit hk yet stay tomorrowland aka...   \n",
       "2  thank god wasn hot humid visit otherwis big is...   \n",
       "3  hk great compact unfortun quit bit mainten wor...   \n",
       "4  locat citi took around 1 hour kowlon kid like ...   \n",
       "\n",
       "                                     text_lemmatized  \\\n",
       "0  ve ever anywher ll find hong kong similar layo...   \n",
       "1  sinc d last visit hk yet stay tomorrowland aka...   \n",
       "2  thank god wasn hot humid visit otherwis big is...   \n",
       "3  hk great compact unfortun quit bit mainten wor...   \n",
       "4  locat citi take around 1 hour kowlon kid like ...   \n",
       "\n",
       "                                      text_corrected  \\\n",
       "0  ve ever anywher all find hong kong similar lay...   \n",
       "1  since i last visit he yet stay tomorrowland ak...   \n",
       "2  thank god wasn hot humid visit otherwise big i...   \n",
       "3  he great compact unfortune quit bit maintain w...   \n",
       "4  local city take around 1 hour kowloon kid like...   \n",
       "\n",
       "                                     Without3letters  \n",
       "0   ever anywher  find hong kong similar layout w...  \n",
       "1  since  last visit   stay tomorrowland  marvel ...  \n",
       "2  thank  wasn  humid visit otherwise  issue  sha...  \n",
       "3   great compact unfortune quit  maintain work  ...  \n",
       "4  local city take around  hour kowloon  like muc...  "
      ]
     },
     "execution_count": 226,
     "metadata": {},
     "output_type": "execute_result"
    }
   ],
   "source": [
    "df1.head()"
   ]
  },
  {
   "cell_type": "code",
   "execution_count": 227,
   "id": "be4304ca",
   "metadata": {},
   "outputs": [],
   "source": [
    "#saving the data\n",
    "df1.to_csv(\"C:/Users/mai_a/Desktop/Project4_NLP/data_cleaned.csv\")"
   ]
  },
  {
   "cell_type": "code",
   "execution_count": 46,
   "id": "1ef73dfd",
   "metadata": {},
   "outputs": [],
   "source": [
    "clean_df = pd.read_csv(\"C:/Users/mai_a/Desktop/Project4_NLP/data_cleaned.csv\")"
   ]
  },
  {
   "cell_type": "markdown",
   "id": "0c5b7ead",
   "metadata": {},
   "source": [
    "#### Checking for null values"
   ]
  },
  {
   "cell_type": "code",
   "execution_count": 47,
   "id": "c4172b61",
   "metadata": {},
   "outputs": [
    {
     "data": {
      "text/plain": [
       "Unnamed: 0         0\n",
       "Rating             0\n",
       "Review_Text        0\n",
       "Review_Text1       0\n",
       "Review_Text2       0\n",
       "text_stemmed       0\n",
       "text_lemmatized    0\n",
       "text_corrected     0\n",
       "Without3letters    0\n",
       "dtype: int64"
      ]
     },
     "execution_count": 47,
     "metadata": {},
     "output_type": "execute_result"
    }
   ],
   "source": [
    "clean_df.isnull().sum()"
   ]
  },
  {
   "cell_type": "code",
   "execution_count": 48,
   "id": "8d69c3a8",
   "metadata": {},
   "outputs": [
    {
     "data": {
      "text/html": [
       "<div>\n",
       "<style scoped>\n",
       "    .dataframe tbody tr th:only-of-type {\n",
       "        vertical-align: middle;\n",
       "    }\n",
       "\n",
       "    .dataframe tbody tr th {\n",
       "        vertical-align: top;\n",
       "    }\n",
       "\n",
       "    .dataframe thead th {\n",
       "        text-align: right;\n",
       "    }\n",
       "</style>\n",
       "<table border=\"1\" class=\"dataframe\">\n",
       "  <thead>\n",
       "    <tr style=\"text-align: right;\">\n",
       "      <th></th>\n",
       "      <th>Unnamed: 0</th>\n",
       "      <th>Rating</th>\n",
       "      <th>Review_Text</th>\n",
       "      <th>Review_Text1</th>\n",
       "      <th>Review_Text2</th>\n",
       "      <th>text_stemmed</th>\n",
       "      <th>text_lemmatized</th>\n",
       "      <th>text_corrected</th>\n",
       "      <th>Without3letters</th>\n",
       "    </tr>\n",
       "  </thead>\n",
       "  <tbody>\n",
       "    <tr>\n",
       "      <th>0</th>\n",
       "      <td>0</td>\n",
       "      <td>4</td>\n",
       "      <td>ve ever disneyland anywhere ll find disneyland...</td>\n",
       "      <td>ve ever anywhere ll find hong kong similar lay...</td>\n",
       "      <td>ve ever anywhere ll find hong kong similar lay...</td>\n",
       "      <td>ve ever anywher ll find hong kong similar layo...</td>\n",
       "      <td>ve ever anywher ll find hong kong similar layo...</td>\n",
       "      <td>ve ever anywher all find hong kong similar lay...</td>\n",
       "      <td>ever anywher  find hong kong similar layout w...</td>\n",
       "    </tr>\n",
       "    <tr>\n",
       "      <th>1</th>\n",
       "      <td>1</td>\n",
       "      <td>4</td>\n",
       "      <td>since d last time visit hk disneyland yet time...</td>\n",
       "      <td>since d last visit hk yet stay tomorrowland ak...</td>\n",
       "      <td>since d last visit hk yet stay tomorrowland ak...</td>\n",
       "      <td>sinc d last visit hk yet stay tomorrowland aka...</td>\n",
       "      <td>sinc d last visit hk yet stay tomorrowland aka...</td>\n",
       "      <td>since i last visit he yet stay tomorrowland ak...</td>\n",
       "      <td>since  last visit   stay tomorrowland  marvel ...</td>\n",
       "    </tr>\n",
       "    <tr>\n",
       "      <th>2</th>\n",
       "      <td>2</td>\n",
       "      <td>4</td>\n",
       "      <td>thanks god wasn t hot humid visiting park othe...</td>\n",
       "      <td>thanks god wasn hot humid visiting otherwise b...</td>\n",
       "      <td>thanks god wasn hot humid visiting otherwise b...</td>\n",
       "      <td>thank god wasn hot humid visit otherwis big is...</td>\n",
       "      <td>thank god wasn hot humid visit otherwis big is...</td>\n",
       "      <td>thank god wasn hot humid visit otherwise big i...</td>\n",
       "      <td>thank  wasn  humid visit otherwise  issue  sha...</td>\n",
       "    </tr>\n",
       "    <tr>\n",
       "      <th>3</th>\n",
       "      <td>3</td>\n",
       "      <td>4</td>\n",
       "      <td>hk disneyland great compact park unfortunately...</td>\n",
       "      <td>hk great compact unfortunately quite bit maint...</td>\n",
       "      <td>hk great compact unfortunately quite bit maint...</td>\n",
       "      <td>hk great compact unfortun quit bit mainten wor...</td>\n",
       "      <td>hk great compact unfortun quit bit mainten wor...</td>\n",
       "      <td>he great compact unfortune quit bit maintain w...</td>\n",
       "      <td>great compact unfortune quit  maintain work  ...</td>\n",
       "    </tr>\n",
       "    <tr>\n",
       "      <th>4</th>\n",
       "      <td>4</td>\n",
       "      <td>4</td>\n",
       "      <td>location city took around 1 hour kowlon kids l...</td>\n",
       "      <td>location city took around 1 hour kowlon kids l...</td>\n",
       "      <td>location city took around 1 hour kowlon kids l...</td>\n",
       "      <td>locat citi took around 1 hour kowlon kid like ...</td>\n",
       "      <td>locat citi take around 1 hour kowlon kid like ...</td>\n",
       "      <td>local city take around 1 hour kowloon kid like...</td>\n",
       "      <td>local city take around  hour kowloon  like muc...</td>\n",
       "    </tr>\n",
       "  </tbody>\n",
       "</table>\n",
       "</div>"
      ],
      "text/plain": [
       "   Unnamed: 0  Rating                                        Review_Text  \\\n",
       "0           0       4  ve ever disneyland anywhere ll find disneyland...   \n",
       "1           1       4  since d last time visit hk disneyland yet time...   \n",
       "2           2       4  thanks god wasn t hot humid visiting park othe...   \n",
       "3           3       4  hk disneyland great compact park unfortunately...   \n",
       "4           4       4  location city took around 1 hour kowlon kids l...   \n",
       "\n",
       "                                        Review_Text1  \\\n",
       "0  ve ever anywhere ll find hong kong similar lay...   \n",
       "1  since d last visit hk yet stay tomorrowland ak...   \n",
       "2  thanks god wasn hot humid visiting otherwise b...   \n",
       "3  hk great compact unfortunately quite bit maint...   \n",
       "4  location city took around 1 hour kowlon kids l...   \n",
       "\n",
       "                                        Review_Text2  \\\n",
       "0  ve ever anywhere ll find hong kong similar lay...   \n",
       "1  since d last visit hk yet stay tomorrowland ak...   \n",
       "2  thanks god wasn hot humid visiting otherwise b...   \n",
       "3  hk great compact unfortunately quite bit maint...   \n",
       "4  location city took around 1 hour kowlon kids l...   \n",
       "\n",
       "                                        text_stemmed  \\\n",
       "0  ve ever anywher ll find hong kong similar layo...   \n",
       "1  sinc d last visit hk yet stay tomorrowland aka...   \n",
       "2  thank god wasn hot humid visit otherwis big is...   \n",
       "3  hk great compact unfortun quit bit mainten wor...   \n",
       "4  locat citi took around 1 hour kowlon kid like ...   \n",
       "\n",
       "                                     text_lemmatized  \\\n",
       "0  ve ever anywher ll find hong kong similar layo...   \n",
       "1  sinc d last visit hk yet stay tomorrowland aka...   \n",
       "2  thank god wasn hot humid visit otherwis big is...   \n",
       "3  hk great compact unfortun quit bit mainten wor...   \n",
       "4  locat citi take around 1 hour kowlon kid like ...   \n",
       "\n",
       "                                      text_corrected  \\\n",
       "0  ve ever anywher all find hong kong similar lay...   \n",
       "1  since i last visit he yet stay tomorrowland ak...   \n",
       "2  thank god wasn hot humid visit otherwise big i...   \n",
       "3  he great compact unfortune quit bit maintain w...   \n",
       "4  local city take around 1 hour kowloon kid like...   \n",
       "\n",
       "                                     Without3letters  \n",
       "0   ever anywher  find hong kong similar layout w...  \n",
       "1  since  last visit   stay tomorrowland  marvel ...  \n",
       "2  thank  wasn  humid visit otherwise  issue  sha...  \n",
       "3   great compact unfortune quit  maintain work  ...  \n",
       "4  local city take around  hour kowloon  like muc...  "
      ]
     },
     "execution_count": 48,
     "metadata": {},
     "output_type": "execute_result"
    }
   ],
   "source": [
    "clean_df.head()"
   ]
  },
  {
   "cell_type": "markdown",
   "id": "fcaa1822",
   "metadata": {},
   "source": [
    "#### Removing Emojis"
   ]
  },
  {
   "cell_type": "code",
   "execution_count": 49,
   "id": "3ff2248b",
   "metadata": {},
   "outputs": [
    {
     "data": {
      "text/html": [
       "<div>\n",
       "<style scoped>\n",
       "    .dataframe tbody tr th:only-of-type {\n",
       "        vertical-align: middle;\n",
       "    }\n",
       "\n",
       "    .dataframe tbody tr th {\n",
       "        vertical-align: top;\n",
       "    }\n",
       "\n",
       "    .dataframe thead th {\n",
       "        text-align: right;\n",
       "    }\n",
       "</style>\n",
       "<table border=\"1\" class=\"dataframe\">\n",
       "  <thead>\n",
       "    <tr style=\"text-align: right;\">\n",
       "      <th></th>\n",
       "      <th>Unnamed: 0</th>\n",
       "      <th>Rating</th>\n",
       "      <th>Review_Text</th>\n",
       "      <th>Review_Text1</th>\n",
       "      <th>Review_Text2</th>\n",
       "      <th>text_stemmed</th>\n",
       "      <th>text_lemmatized</th>\n",
       "      <th>text_corrected</th>\n",
       "      <th>Without3letters</th>\n",
       "      <th>Emoji_Count</th>\n",
       "    </tr>\n",
       "  </thead>\n",
       "  <tbody>\n",
       "    <tr>\n",
       "      <th>0</th>\n",
       "      <td>0</td>\n",
       "      <td>4</td>\n",
       "      <td>ve ever disneyland anywhere ll find disneyland...</td>\n",
       "      <td>ve ever anywhere ll find hong kong similar lay...</td>\n",
       "      <td>ve ever anywhere ll find hong kong similar lay...</td>\n",
       "      <td>ve ever anywher ll find hong kong similar layo...</td>\n",
       "      <td>ve ever anywher ll find hong kong similar layo...</td>\n",
       "      <td>ve ever anywher all find hong kong similar lay...</td>\n",
       "      <td>ever anywher  find hong kong similar layout w...</td>\n",
       "      <td>0</td>\n",
       "    </tr>\n",
       "    <tr>\n",
       "      <th>1</th>\n",
       "      <td>1</td>\n",
       "      <td>4</td>\n",
       "      <td>since d last time visit hk disneyland yet time...</td>\n",
       "      <td>since d last visit hk yet stay tomorrowland ak...</td>\n",
       "      <td>since d last visit hk yet stay tomorrowland ak...</td>\n",
       "      <td>sinc d last visit hk yet stay tomorrowland aka...</td>\n",
       "      <td>sinc d last visit hk yet stay tomorrowland aka...</td>\n",
       "      <td>since i last visit he yet stay tomorrowland ak...</td>\n",
       "      <td>since  last visit   stay tomorrowland  marvel ...</td>\n",
       "      <td>0</td>\n",
       "    </tr>\n",
       "    <tr>\n",
       "      <th>2</th>\n",
       "      <td>2</td>\n",
       "      <td>4</td>\n",
       "      <td>thanks god wasn t hot humid visiting park othe...</td>\n",
       "      <td>thanks god wasn hot humid visiting otherwise b...</td>\n",
       "      <td>thanks god wasn hot humid visiting otherwise b...</td>\n",
       "      <td>thank god wasn hot humid visit otherwis big is...</td>\n",
       "      <td>thank god wasn hot humid visit otherwis big is...</td>\n",
       "      <td>thank god wasn hot humid visit otherwise big i...</td>\n",
       "      <td>thank  wasn  humid visit otherwise  issue  sha...</td>\n",
       "      <td>0</td>\n",
       "    </tr>\n",
       "    <tr>\n",
       "      <th>3</th>\n",
       "      <td>3</td>\n",
       "      <td>4</td>\n",
       "      <td>hk disneyland great compact park unfortunately...</td>\n",
       "      <td>hk great compact unfortunately quite bit maint...</td>\n",
       "      <td>hk great compact unfortunately quite bit maint...</td>\n",
       "      <td>hk great compact unfortun quit bit mainten wor...</td>\n",
       "      <td>hk great compact unfortun quit bit mainten wor...</td>\n",
       "      <td>he great compact unfortune quit bit maintain w...</td>\n",
       "      <td>great compact unfortune quit  maintain work  ...</td>\n",
       "      <td>0</td>\n",
       "    </tr>\n",
       "    <tr>\n",
       "      <th>4</th>\n",
       "      <td>4</td>\n",
       "      <td>4</td>\n",
       "      <td>location city took around 1 hour kowlon kids l...</td>\n",
       "      <td>location city took around 1 hour kowlon kids l...</td>\n",
       "      <td>location city took around 1 hour kowlon kids l...</td>\n",
       "      <td>locat citi took around 1 hour kowlon kid like ...</td>\n",
       "      <td>locat citi take around 1 hour kowlon kid like ...</td>\n",
       "      <td>local city take around 1 hour kowloon kid like...</td>\n",
       "      <td>local city take around  hour kowloon  like muc...</td>\n",
       "      <td>0</td>\n",
       "    </tr>\n",
       "  </tbody>\n",
       "</table>\n",
       "</div>"
      ],
      "text/plain": [
       "   Unnamed: 0  Rating                                        Review_Text  \\\n",
       "0           0       4  ve ever disneyland anywhere ll find disneyland...   \n",
       "1           1       4  since d last time visit hk disneyland yet time...   \n",
       "2           2       4  thanks god wasn t hot humid visiting park othe...   \n",
       "3           3       4  hk disneyland great compact park unfortunately...   \n",
       "4           4       4  location city took around 1 hour kowlon kids l...   \n",
       "\n",
       "                                        Review_Text1  \\\n",
       "0  ve ever anywhere ll find hong kong similar lay...   \n",
       "1  since d last visit hk yet stay tomorrowland ak...   \n",
       "2  thanks god wasn hot humid visiting otherwise b...   \n",
       "3  hk great compact unfortunately quite bit maint...   \n",
       "4  location city took around 1 hour kowlon kids l...   \n",
       "\n",
       "                                        Review_Text2  \\\n",
       "0  ve ever anywhere ll find hong kong similar lay...   \n",
       "1  since d last visit hk yet stay tomorrowland ak...   \n",
       "2  thanks god wasn hot humid visiting otherwise b...   \n",
       "3  hk great compact unfortunately quite bit maint...   \n",
       "4  location city took around 1 hour kowlon kids l...   \n",
       "\n",
       "                                        text_stemmed  \\\n",
       "0  ve ever anywher ll find hong kong similar layo...   \n",
       "1  sinc d last visit hk yet stay tomorrowland aka...   \n",
       "2  thank god wasn hot humid visit otherwis big is...   \n",
       "3  hk great compact unfortun quit bit mainten wor...   \n",
       "4  locat citi took around 1 hour kowlon kid like ...   \n",
       "\n",
       "                                     text_lemmatized  \\\n",
       "0  ve ever anywher ll find hong kong similar layo...   \n",
       "1  sinc d last visit hk yet stay tomorrowland aka...   \n",
       "2  thank god wasn hot humid visit otherwis big is...   \n",
       "3  hk great compact unfortun quit bit mainten wor...   \n",
       "4  locat citi take around 1 hour kowlon kid like ...   \n",
       "\n",
       "                                      text_corrected  \\\n",
       "0  ve ever anywher all find hong kong similar lay...   \n",
       "1  since i last visit he yet stay tomorrowland ak...   \n",
       "2  thank god wasn hot humid visit otherwise big i...   \n",
       "3  he great compact unfortune quit bit maintain w...   \n",
       "4  local city take around 1 hour kowloon kid like...   \n",
       "\n",
       "                                     Without3letters  Emoji_Count  \n",
       "0   ever anywher  find hong kong similar layout w...            0  \n",
       "1  since  last visit   stay tomorrowland  marvel ...            0  \n",
       "2  thank  wasn  humid visit otherwise  issue  sha...            0  \n",
       "3   great compact unfortune quit  maintain work  ...            0  \n",
       "4  local city take around  hour kowloon  like muc...            0  "
      ]
     },
     "execution_count": 49,
     "metadata": {},
     "output_type": "execute_result"
    }
   ],
   "source": [
    "def split_count(info):\n",
    "    return len([c for c in info if c in emoji.UNICODE_EMOJI])\n",
    "\n",
    "\n",
    "clean_df[\"Emoji_Count\"] = clean_df[\"Without3letters\"].apply(split_count)\n",
    "clean_df.head()"
   ]
  },
  {
   "cell_type": "code",
   "execution_count": 50,
   "id": "3f363adb",
   "metadata": {},
   "outputs": [
    {
     "data": {
      "text/plain": [
       "0"
      ]
     },
     "execution_count": 50,
     "metadata": {},
     "output_type": "execute_result"
    }
   ],
   "source": [
    "clean_df.Emoji_Count.sum()"
   ]
  },
  {
   "cell_type": "code",
   "execution_count": 51,
   "id": "91f5889b",
   "metadata": {},
   "outputs": [],
   "source": [
    "def remove_emoji(string):\n",
    "    emoji_pattern = re.compile(\"[\"\n",
    "                               u\"\\U0001F600-\\U0001F64F\"\n",
    "                               u\"\\U0001F300-\\U0001F5FF\"\n",
    "                               u\"\\U0001F680-\\U0001F6FF\"\n",
    "                               u\"\\U0001F1E0-\\U0001F1FF\"\n",
    "                               u\"U00002707-\\U000027B0\"\n",
    "                               u\"\\U000024C2-\\U0001F251\"\n",
    "                               \"]+\", flags=re.UNICODE)\n",
    "    return emoji_pattern.sub(r'', string)"
   ]
  },
  {
   "cell_type": "code",
   "execution_count": 52,
   "id": "005448e8",
   "metadata": {},
   "outputs": [],
   "source": [
    "clean_df['WithoutEmojis']=clean_df['Without3letters'].apply(lambda x: remove_emoji(x))"
   ]
  },
  {
   "cell_type": "code",
   "execution_count": 63,
   "id": "1fe1e4b9",
   "metadata": {},
   "outputs": [],
   "source": [
    "clean_df.to_csv(\"C:/Users/mai_a/Desktop/Project4_NLP/cleaned_data_final.csv\")"
   ]
  },
  {
   "cell_type": "markdown",
   "id": "afb66931",
   "metadata": {},
   "source": [
    "## Modeling"
   ]
  },
  {
   "cell_type": "code",
   "execution_count": 1,
   "id": "4036bce3",
   "metadata": {},
   "outputs": [],
   "source": [
    "import pandas as pd"
   ]
  },
  {
   "cell_type": "code",
   "execution_count": 2,
   "id": "20036f34",
   "metadata": {},
   "outputs": [],
   "source": [
    "from sklearn.feature_extraction.text import TfidfVectorizer\n",
    "from sklearn.model_selection import train_test_split\n",
    "from sklearn.svm import LinearSVC\n",
    "from sklearn.metrics import classification_report"
   ]
  },
  {
   "cell_type": "code",
   "execution_count": 10,
   "id": "9b4816bd",
   "metadata": {},
   "outputs": [],
   "source": [
    "model_data = pd.read_csv(\"C:/Users/mai_a/Downloads/final_data_20.csv\")"
   ]
  },
  {
   "cell_type": "code",
   "execution_count": 11,
   "id": "4b59df1d",
   "metadata": {},
   "outputs": [
    {
     "data": {
      "text/html": [
       "<div>\n",
       "<style scoped>\n",
       "    .dataframe tbody tr th:only-of-type {\n",
       "        vertical-align: middle;\n",
       "    }\n",
       "\n",
       "    .dataframe tbody tr th {\n",
       "        vertical-align: top;\n",
       "    }\n",
       "\n",
       "    .dataframe thead th {\n",
       "        text-align: right;\n",
       "    }\n",
       "</style>\n",
       "<table border=\"1\" class=\"dataframe\">\n",
       "  <thead>\n",
       "    <tr style=\"text-align: right;\">\n",
       "      <th></th>\n",
       "      <th>Unnamed: 0</th>\n",
       "      <th>Unnamed: 0.1</th>\n",
       "      <th>Unnamed: 0.1.1</th>\n",
       "      <th>Rating</th>\n",
       "      <th>Review_Text</th>\n",
       "      <th>Review_Text1</th>\n",
       "      <th>Review_Text2</th>\n",
       "      <th>text_stemmed</th>\n",
       "      <th>text_lemmatized</th>\n",
       "      <th>text_corrected</th>\n",
       "      <th>Without3letters</th>\n",
       "      <th>Emoji_Count</th>\n",
       "      <th>WithoutEmojis</th>\n",
       "      <th>Removed_words</th>\n",
       "      <th>Reviews_words</th>\n",
       "    </tr>\n",
       "  </thead>\n",
       "  <tbody>\n",
       "    <tr>\n",
       "      <th>0</th>\n",
       "      <td>0</td>\n",
       "      <td>0</td>\n",
       "      <td>0</td>\n",
       "      <td>4</td>\n",
       "      <td>ve ever disneyland anywhere ll find disneyland...</td>\n",
       "      <td>ve ever anywhere ll find hong kong similar lay...</td>\n",
       "      <td>ve ever anywhere ll find hong kong similar lay...</td>\n",
       "      <td>ve ever anywher ll find hong kong similar layo...</td>\n",
       "      <td>ve ever anywher ll find hong kong similar layo...</td>\n",
       "      <td>ve ever anywher all find hong kong similar lay...</td>\n",
       "      <td>ever anywher  find hong kong similar layout w...</td>\n",
       "      <td>0</td>\n",
       "      <td></td>\n",
       "      <td>ever anywher find hong kong similar layout wal...</td>\n",
       "      <td>ever anywher find hong kong similar layout wal...</td>\n",
       "    </tr>\n",
       "  </tbody>\n",
       "</table>\n",
       "</div>"
      ],
      "text/plain": [
       "   Unnamed: 0  Unnamed: 0.1  Unnamed: 0.1.1  Rating  \\\n",
       "0           0             0               0       4   \n",
       "\n",
       "                                         Review_Text  \\\n",
       "0  ve ever disneyland anywhere ll find disneyland...   \n",
       "\n",
       "                                        Review_Text1  \\\n",
       "0  ve ever anywhere ll find hong kong similar lay...   \n",
       "\n",
       "                                        Review_Text2  \\\n",
       "0  ve ever anywhere ll find hong kong similar lay...   \n",
       "\n",
       "                                        text_stemmed  \\\n",
       "0  ve ever anywher ll find hong kong similar layo...   \n",
       "\n",
       "                                     text_lemmatized  \\\n",
       "0  ve ever anywher ll find hong kong similar layo...   \n",
       "\n",
       "                                      text_corrected  \\\n",
       "0  ve ever anywher all find hong kong similar lay...   \n",
       "\n",
       "                                     Without3letters  Emoji_Count  \\\n",
       "0   ever anywher  find hong kong similar layout w...            0   \n",
       "\n",
       "                  WithoutEmojis  \\\n",
       "0                                 \n",
       "\n",
       "                                       Removed_words  \\\n",
       "0  ever anywher find hong kong similar layout wal...   \n",
       "\n",
       "                                       Reviews_words  \n",
       "0  ever anywher find hong kong similar layout wal...  "
      ]
     },
     "execution_count": 11,
     "metadata": {},
     "output_type": "execute_result"
    }
   ],
   "source": [
    "model_data.head(1)"
   ]
  },
  {
   "cell_type": "code",
   "execution_count": 12,
   "id": "a495119e",
   "metadata": {},
   "outputs": [],
   "source": [
    "tfidf = TfidfVectorizer(max_features=10000, ngram_range=(1,5), analyzer='char')"
   ]
  },
  {
   "cell_type": "code",
   "execution_count": 13,
   "id": "3fc8518d",
   "metadata": {},
   "outputs": [
    {
     "data": {
      "text/plain": [
       "<20000x10000 sparse matrix of type '<class 'numpy.float64'>'\n",
       "\twith 12636819 stored elements in Compressed Sparse Row format>"
      ]
     },
     "execution_count": 13,
     "metadata": {},
     "output_type": "execute_result"
    }
   ],
   "source": [
    "X = tfidf.fit_transform(model_data[\"Reviews_words\"])\n",
    "y = model_data[\"Rating\"]\n",
    "X"
   ]
  },
  {
   "cell_type": "code",
   "execution_count": 14,
   "id": "65f59ddf",
   "metadata": {},
   "outputs": [
    {
     "data": {
      "text/plain": [
       "((20000, 10000), (20000,))"
      ]
     },
     "execution_count": 14,
     "metadata": {},
     "output_type": "execute_result"
    }
   ],
   "source": [
    "X.shape, y.shape"
   ]
  },
  {
   "cell_type": "code",
   "execution_count": 28,
   "id": "017ebeb5",
   "metadata": {},
   "outputs": [
    {
     "data": {
      "text/plain": [
       "5    11129\n",
       "4     5319\n",
       "3     2323\n",
       "2      766\n",
       "1      463\n",
       "Name: Rating, dtype: int64"
      ]
     },
     "execution_count": 28,
     "metadata": {},
     "output_type": "execute_result"
    }
   ],
   "source": [
    "y.value_counts()"
   ]
  },
  {
   "cell_type": "code",
   "execution_count": 15,
   "id": "b8f3ca37",
   "metadata": {},
   "outputs": [],
   "source": [
    "X_train, X_test, y_train, y_test = train_test_split(X,y,test_size=0.2,random_state=0)"
   ]
  },
  {
   "cell_type": "code",
   "execution_count": 16,
   "id": "037af64f",
   "metadata": {},
   "outputs": [],
   "source": [
    "X_train1, X_val, y_train1, y_val = train_test_split(X_train,y_train,test_size=0.2,random_state=0)"
   ]
  },
  {
   "cell_type": "code",
   "execution_count": 17,
   "id": "811810cb",
   "metadata": {},
   "outputs": [
    {
     "data": {
      "text/plain": [
       "(16000, 10000)"
      ]
     },
     "execution_count": 17,
     "metadata": {},
     "output_type": "execute_result"
    }
   ],
   "source": [
    "X_train.shape"
   ]
  },
  {
   "cell_type": "code",
   "execution_count": 19,
   "id": "dff33e87",
   "metadata": {},
   "outputs": [
    {
     "data": {
      "text/plain": [
       "LinearSVC(C=10, class_weight='balanced')"
      ]
     },
     "execution_count": 19,
     "metadata": {},
     "output_type": "execute_result"
    }
   ],
   "source": [
    "clf = LinearSVC(C=10, class_weight=\"balanced\")\n",
    "clf.fit(X_train1, y_train1)"
   ]
  },
  {
   "cell_type": "code",
   "execution_count": 20,
   "id": "d3a72135",
   "metadata": {},
   "outputs": [
    {
     "data": {
      "text/plain": [
       "0.553125"
      ]
     },
     "execution_count": 20,
     "metadata": {},
     "output_type": "execute_result"
    }
   ],
   "source": [
    "clf.score(X_val,y_val)"
   ]
  },
  {
   "cell_type": "code",
   "execution_count": 21,
   "id": "c35e0bbd",
   "metadata": {},
   "outputs": [
    {
     "data": {
      "text/plain": [
       "0.5415"
      ]
     },
     "execution_count": 21,
     "metadata": {},
     "output_type": "execute_result"
    }
   ],
   "source": [
    "clf.score(X_test,y_test)"
   ]
  },
  {
   "cell_type": "code",
   "execution_count": null,
   "id": "7c50695f",
   "metadata": {},
   "outputs": [],
   "source": [
    "## Logistic Regression"
   ]
  },
  {
   "cell_type": "code",
   "execution_count": 22,
   "id": "1364996c",
   "metadata": {},
   "outputs": [
    {
     "name": "stderr",
     "output_type": "stream",
     "text": [
      "C:\\Users\\mai_a\\anaconda3\\lib\\site-packages\\sklearn\\linear_model\\_logistic.py:763: ConvergenceWarning: lbfgs failed to converge (status=1):\n",
      "STOP: TOTAL NO. of ITERATIONS REACHED LIMIT.\n",
      "\n",
      "Increase the number of iterations (max_iter) or scale the data as shown in:\n",
      "    https://scikit-learn.org/stable/modules/preprocessing.html\n",
      "Please also refer to the documentation for alternative solver options:\n",
      "    https://scikit-learn.org/stable/modules/linear_model.html#logistic-regression\n",
      "  n_iter_i = _check_optimize_result(\n"
     ]
    },
    {
     "data": {
      "text/plain": [
       "LogisticRegression(C=1)"
      ]
     },
     "execution_count": 22,
     "metadata": {},
     "output_type": "execute_result"
    }
   ],
   "source": [
    "from sklearn.linear_model import LogisticRegression\n",
    "\n",
    "lr = LogisticRegression(C = 1) \n",
    "lr.fit(X_train1, y_train1)"
   ]
  },
  {
   "cell_type": "code",
   "execution_count": 23,
   "id": "fbd8cd30",
   "metadata": {},
   "outputs": [
    {
     "data": {
      "text/plain": [
       "0.6125"
      ]
     },
     "execution_count": 23,
     "metadata": {},
     "output_type": "execute_result"
    }
   ],
   "source": [
    "lr.score(X_val,y_val)"
   ]
  },
  {
   "cell_type": "code",
   "execution_count": 24,
   "id": "706e66db",
   "metadata": {},
   "outputs": [
    {
     "data": {
      "text/plain": [
       "0.59575"
      ]
     },
     "execution_count": 24,
     "metadata": {},
     "output_type": "execute_result"
    }
   ],
   "source": [
    "lr.score(X_test,y_test)"
   ]
  },
  {
   "cell_type": "markdown",
   "id": "2cdfb889",
   "metadata": {},
   "source": [
    "## Random Forest"
   ]
  },
  {
   "cell_type": "code",
   "execution_count": 25,
   "id": "8e0f81f3",
   "metadata": {},
   "outputs": [],
   "source": [
    "from sklearn.ensemble import RandomForestClassifier\n",
    "from sklearn.metrics import accuracy_score"
   ]
  },
  {
   "cell_type": "code",
   "execution_count": 26,
   "id": "58e710b6",
   "metadata": {},
   "outputs": [
    {
     "name": "stdout",
     "output_type": "stream",
     "text": [
      "Accuracy on validation set: 0.559375\n",
      "Accuracy on test set: 0.5545\n"
     ]
    }
   ],
   "source": [
    "rf_clf = RandomForestClassifier(n_estimators = 100,max_features=5, max_depth=7,min_samples_leaf=2, random_state = 0)\n",
    "rf_clf.fit(X_train1, y_train1)\n",
    "print('Accuracy on validation set:',rf_clf.score(X_val,y_val))\n",
    "print('Accuracy on test set:',rf_clf.score(X_test,y_test))"
   ]
  },
  {
   "cell_type": "markdown",
   "id": "a0940aa0",
   "metadata": {},
   "source": [
    "## KNN"
   ]
  },
  {
   "cell_type": "code",
   "execution_count": 27,
   "id": "7bfb0c6f",
   "metadata": {},
   "outputs": [
    {
     "name": "stdout",
     "output_type": "stream",
     "text": [
      "Accuracy on validation set: 0.5253125\n",
      "Accuracy on test set: 0.52625\n"
     ]
    }
   ],
   "source": [
    "from sklearn.neighbors import KNeighborsClassifier\n",
    "knn = KNeighborsClassifier(n_neighbors = 10)\n",
    "knn.fit(X_train1, y_train1)\n",
    "print('Accuracy on validation set:',knn.score(X_val,y_val))\n",
    "print('Accuracy on test set:',knn.score(X_test, y_test))"
   ]
  },
  {
   "cell_type": "code",
   "execution_count": 94,
   "id": "5d8fb00e",
   "metadata": {},
   "outputs": [
    {
     "data": {
      "text/plain": [
       "array([4], dtype=int64)"
      ]
     },
     "execution_count": 94,
     "metadata": {},
     "output_type": "execute_result"
    }
   ],
   "source": [
    "x = \"the weather was nice.\"\n",
    "#x = get_clean(x)\n",
    "vec = tfidf.transform()\n",
    "clf.predict(vec)"
   ]
  },
  {
   "cell_type": "code",
   "execution_count": 29,
   "id": "8c2f8806",
   "metadata": {},
   "outputs": [],
   "source": [
    "import pickle\n",
    "with open(f\"C:/Users/mai_a/Desktop/Project4_NLP/clf_model.pickle\", \"wb\") as pfile:\n",
    "    pickle.dump(clf, pfile)\n",
    "    "
   ]
  },
  {
   "cell_type": "code",
   "execution_count": null,
   "id": "86813e68",
   "metadata": {},
   "outputs": [],
   "source": []
  }
 ],
 "metadata": {
  "kernelspec": {
   "display_name": "Python 3",
   "language": "python",
   "name": "python3"
  },
  "language_info": {
   "codemirror_mode": {
    "name": "ipython",
    "version": 3
   },
   "file_extension": ".py",
   "mimetype": "text/x-python",
   "name": "python",
   "nbconvert_exporter": "python",
   "pygments_lexer": "ipython3",
   "version": "3.8.8"
  }
 },
 "nbformat": 4,
 "nbformat_minor": 5
}
